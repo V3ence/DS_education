{
  "cells": [
    {
      "cell_type": "markdown",
      "id": "42289889-bd57-434e-9637-d3e354756316",
      "metadata": {
        "id": "42289889-bd57-434e-9637-d3e354756316"
      },
      "source": [
        "<center> <img src = https://raw.githubusercontent.com/AndreyRysistov/DatasetsForPandas/main/hh%20label.jpg alt=\"drawing\" style=\"width:400px;\">"
      ]
    },
    {
      "cell_type": "markdown",
      "id": "829cb75b-f14e-4ba8-9195-7ba929a7d656",
      "metadata": {
        "id": "829cb75b-f14e-4ba8-9195-7ba929a7d656",
        "tags": []
      },
      "source": [
        "# <center> Проект: Анализ вакансий из HeadHunter\n",
        "   "
      ]
    },
    {
      "cell_type": "code",
      "execution_count": 136,
      "id": "dccfde33-2452-43fb-a8a5-5c6ebc02a71d",
      "metadata": {
        "id": "dccfde33-2452-43fb-a8a5-5c6ebc02a71d"
      },
      "outputs": [],
      "source": [
        "import pandas as pd\n",
        "import plotly.graph_objects as go\n",
        "import plotly.express as px\n",
        "import seaborn as sns\n",
        "import matplotlib.pyplot as plt\n",
        "import psycopg2\n",
        "import warnings\n",
        "warnings.filterwarnings('ignore')"
      ]
    },
    {
      "cell_type": "code",
      "execution_count": 137,
      "id": "oVKH4ehvf8Ay",
      "metadata": {
        "id": "oVKH4ehvf8Ay"
      },
      "outputs": [],
      "source": [
        "DBNAME = 'project_sql'\n",
        "USER = 'skillfactory'\n",
        "PASSWORD = 'cCkxxLVrDE8EbvjueeMedPKt'\n",
        "HOST = '84.201.134.129'\n",
        "PORT = 5432"
      ]
    },
    {
      "cell_type": "code",
      "execution_count": 138,
      "id": "G4X_q8KBf7SF",
      "metadata": {
        "id": "G4X_q8KBf7SF"
      },
      "outputs": [],
      "source": [
        "connection = psycopg2.connect(\n",
        "    dbname=DBNAME,\n",
        "    user=USER,\n",
        "    host=HOST,\n",
        "    password=PASSWORD,\n",
        "    port=PORT\n",
        ")"
      ]
    },
    {
      "cell_type": "markdown",
      "id": "0dc6476b-7a00-44f1-ac93-6e3baed33a29",
      "metadata": {
        "id": "0dc6476b-7a00-44f1-ac93-6e3baed33a29"
      },
      "source": [
        "# Юнит 3. Предварительный анализ данных"
      ]
    },
    {
      "cell_type": "markdown",
      "id": "889782b6-8d1c-410e-8920-e57f27917c64",
      "metadata": {
        "id": "889782b6-8d1c-410e-8920-e57f27917c64"
      },
      "source": [
        "1. Напишите запрос, который посчитает количество вакансий в нашей базе (вакансии находятся в таблице vacancies). "
      ]
    },
    {
      "cell_type": "code",
      "execution_count": 139,
      "id": "bc39e68e-ed02-4ee2-9235-7258a2f867a8",
      "metadata": {
        "id": "bc39e68e-ed02-4ee2-9235-7258a2f867a8"
      },
      "outputs": [],
      "source": [
        "query_3_1 = f'''\n",
        "SELECT             /*выбор*/\n",
        "    COUNT(*)       /*подсчёт всех строк*/\n",
        "FROM vacancies     /*из таблицы vacancies*/\n",
        "'''"
      ]
    },
    {
      "cell_type": "code",
      "execution_count": 140,
      "id": "7mAwtsk4hEHY",
      "metadata": {
        "id": "7mAwtsk4hEHY"
      },
      "outputs": [
        {
          "name": "stdout",
          "output_type": "stream",
          "text": [
            "Количество вакансий в базе: 49197\n"
          ]
        }
      ],
      "source": [
        "df3_1 = pd.read_sql_query(query_3_1, connection)\n",
        "print('Количество вакансий в базе:', df3_1['count'][0])"
      ]
    },
    {
      "cell_type": "markdown",
      "id": "b583485d-1f9e-494e-ada4-80ffff7c53d6",
      "metadata": {
        "id": "b583485d-1f9e-494e-ada4-80ffff7c53d6"
      },
      "source": [
        "2. Напишите запрос, который посчитает количество работодателей (таблица employers). "
      ]
    },
    {
      "cell_type": "code",
      "execution_count": 141,
      "id": "5408c52c-3407-4a63-b25b-1aafa2322d28",
      "metadata": {
        "id": "5408c52c-3407-4a63-b25b-1aafa2322d28"
      },
      "outputs": [],
      "source": [
        "query_3_2 = f'''\n",
        "SELECT              /*выбор*/\n",
        "    COUNT(*)        /*подсчёт всех строк*/\n",
        "FROM employers      /*из таблицы employers*/\n",
        "'''"
      ]
    },
    {
      "cell_type": "code",
      "execution_count": 142,
      "id": "jVL4eshKhdqc",
      "metadata": {
        "id": "jVL4eshKhdqc"
      },
      "outputs": [
        {
          "name": "stdout",
          "output_type": "stream",
          "text": [
            "Количество работодателей в базе: 23501\n"
          ]
        }
      ],
      "source": [
        "df3_2 = pd.read_sql_query(query_3_2, connection)\n",
        "print('Количество работодателей в базе:', df3_2['count'][0])"
      ]
    },
    {
      "cell_type": "markdown",
      "id": "a2bfff1f-c975-4bf6-84be-2185d79dcb76",
      "metadata": {
        "id": "a2bfff1f-c975-4bf6-84be-2185d79dcb76"
      },
      "source": [
        "3. Посчитате с помощью запроса количество регионов (таблица areas)."
      ]
    },
    {
      "cell_type": "code",
      "execution_count": 143,
      "id": "1m8QJwBYhey6",
      "metadata": {
        "id": "1m8QJwBYhey6"
      },
      "outputs": [],
      "source": [
        "query_3_3 = f'''\n",
        "SELECT              /*выбор*/\n",
        "    COUNT(*)        /*подсчёт всех строк*/\n",
        "FROM areas          /*из таблицы areas*/\n",
        "'''"
      ]
    },
    {
      "cell_type": "code",
      "execution_count": 144,
      "id": "EZsn9tlfhe7f",
      "metadata": {
        "id": "EZsn9tlfhe7f"
      },
      "outputs": [
        {
          "name": "stdout",
          "output_type": "stream",
          "text": [
            "Количество регионов в базе: 1362\n"
          ]
        }
      ],
      "source": [
        "df3_3 = pd.read_sql_query(query_3_3, connection)\n",
        "print('Количество регионов в базе:', df3_3['count'][0])"
      ]
    },
    {
      "cell_type": "markdown",
      "id": "41bb59f3-53cc-4a67-a5bc-bedf573955e4",
      "metadata": {
        "id": "41bb59f3-53cc-4a67-a5bc-bedf573955e4"
      },
      "source": [
        "4. Посчитате с помощью запроса количество сфер деятельности в базе (таблица industries)."
      ]
    },
    {
      "cell_type": "code",
      "execution_count": 145,
      "id": "d286cf4c-707b-4cd2-9190-7ab3587d04a1",
      "metadata": {
        "id": "d286cf4c-707b-4cd2-9190-7ab3587d04a1"
      },
      "outputs": [],
      "source": [
        "query_3_4 = f'''\n",
        "SELECT              /*выбор*/\n",
        "    COUNT(*)        /*подсчёт всех строк*/\n",
        "FROM industries     /*из таблицы industries*/\n",
        "'''"
      ]
    },
    {
      "cell_type": "code",
      "execution_count": 146,
      "id": "JYAaoZ4qhfzW",
      "metadata": {
        "id": "JYAaoZ4qhfzW"
      },
      "outputs": [
        {
          "name": "stdout",
          "output_type": "stream",
          "text": [
            "Количество сфер деятельности в базе: 294\n"
          ]
        }
      ],
      "source": [
        "df3_4 = pd.read_sql_query(query_3_4, connection)\n",
        "print('Количество сфер деятельности в базе:', df3_4['count'][0])"
      ]
    },
    {
      "cell_type": "markdown",
      "id": "9a8a2181-6914-448b-85f1-38f5f18b8a93",
      "metadata": {
        "id": "9a8a2181-6914-448b-85f1-38f5f18b8a93"
      },
      "source": [
        "***"
      ]
    },
    {
      "cell_type": "markdown",
      "id": "f1f3d16c",
      "metadata": {},
      "source": [
        "# Выводы по предварительному анализу данных.\n",
        "* Всего вакансий в базе - 49197, при этом работодателей - 23501 (в среднем на одного работодателя приходится 2 вакансии). Но здесь мы понимаем, что вакансии мы считаем актуальные на момент выгрузки базы, а работодатели - справочная информация, собранная за определенное время, и поэтому эта информация актуальна не вся. В принципе, то же самое можно сказать и о количестве регионов (1362) и о количестве сфер деятельности (294). "
      ]
    },
    {
      "cell_type": "markdown",
      "id": "8d62a9f3-f64e-4fe7-bdac-c4dffa16155e",
      "metadata": {
        "id": "8d62a9f3-f64e-4fe7-bdac-c4dffa16155e"
      },
      "source": [
        "# Юнит 4. Детальный анализ вакансий"
      ]
    },
    {
      "cell_type": "markdown",
      "id": "93053d3d-b284-481a-9cf7-012d7014c0e0",
      "metadata": {
        "id": "93053d3d-b284-481a-9cf7-012d7014c0e0"
      },
      "source": [
        "1. Напишите запрос, который позволит узнать, сколько (cnt) вакансий в каждом регионе (area).\n",
        "Отсортируйте по количеству вакансий в порядке убывания."
      ]
    },
    {
      "cell_type": "code",
      "execution_count": 147,
      "id": "3f069da6-fdc9-4ae7-b514-fafe2675efd3",
      "metadata": {
        "id": "3f069da6-fdc9-4ae7-b514-fafe2675efd3"
      },
      "outputs": [],
      "source": [
        "query_4_1 = f'''\n",
        "SELECT                                          /*выбираем*/\n",
        "    a.name area,                                /*зачения столбца name таблицы a, называем его area*/\n",
        "    COUNT(v.id) cnt                             /*подсчёт строк по столбцу id таблицы v, называем cnt*/\n",
        "FROM areas a                                    /*из таблицы areas с алиасом a*/\n",
        "    LEFT JOIN vacancies v ON v.area_id = a.id   /*оператор соединения таблиц; таблица vacancies с алиасом v; условие: area_id таблицы v равен id таблицы a*/\n",
        "GROUP BY 1                                      /*группировка по 1-му столбцу*/\n",
        "ORDER BY 2 DESC                                 /*сортировка по 2-му столбцу в порядке убывания*/\n",
        "'''"
      ]
    },
    {
      "cell_type": "code",
      "execution_count": 148,
      "id": "P7QL86hrjhRJ",
      "metadata": {
        "id": "P7QL86hrjhRJ"
      },
      "outputs": [
        {
          "data": {
            "text/html": [
              "<div>\n",
              "<style scoped>\n",
              "    .dataframe tbody tr th:only-of-type {\n",
              "        vertical-align: middle;\n",
              "    }\n",
              "\n",
              "    .dataframe tbody tr th {\n",
              "        vertical-align: top;\n",
              "    }\n",
              "\n",
              "    .dataframe thead th {\n",
              "        text-align: right;\n",
              "    }\n",
              "</style>\n",
              "<table border=\"1\" class=\"dataframe\">\n",
              "  <thead>\n",
              "    <tr style=\"text-align: right;\">\n",
              "      <th></th>\n",
              "      <th>area</th>\n",
              "      <th>cnt</th>\n",
              "    </tr>\n",
              "  </thead>\n",
              "  <tbody>\n",
              "    <tr>\n",
              "      <th>0</th>\n",
              "      <td>Москва</td>\n",
              "      <td>5333</td>\n",
              "    </tr>\n",
              "    <tr>\n",
              "      <th>1</th>\n",
              "      <td>Санкт-Петербург</td>\n",
              "      <td>2851</td>\n",
              "    </tr>\n",
              "    <tr>\n",
              "      <th>2</th>\n",
              "      <td>Минск</td>\n",
              "      <td>2112</td>\n",
              "    </tr>\n",
              "    <tr>\n",
              "      <th>3</th>\n",
              "      <td>Новосибирск</td>\n",
              "      <td>2006</td>\n",
              "    </tr>\n",
              "    <tr>\n",
              "      <th>4</th>\n",
              "      <td>Алматы</td>\n",
              "      <td>1892</td>\n",
              "    </tr>\n",
              "    <tr>\n",
              "      <th>...</th>\n",
              "      <td>...</td>\n",
              "      <td>...</td>\n",
              "    </tr>\n",
              "    <tr>\n",
              "      <th>1357</th>\n",
              "      <td>Багаевская</td>\n",
              "      <td>0</td>\n",
              "    </tr>\n",
              "    <tr>\n",
              "      <th>1358</th>\n",
              "      <td>Пролетарск</td>\n",
              "      <td>0</td>\n",
              "    </tr>\n",
              "    <tr>\n",
              "      <th>1359</th>\n",
              "      <td>Седельниково</td>\n",
              "      <td>0</td>\n",
              "    </tr>\n",
              "    <tr>\n",
              "      <th>1360</th>\n",
              "      <td>Инской</td>\n",
              "      <td>0</td>\n",
              "    </tr>\n",
              "    <tr>\n",
              "      <th>1361</th>\n",
              "      <td>Белоярский (Свердловская область)</td>\n",
              "      <td>0</td>\n",
              "    </tr>\n",
              "  </tbody>\n",
              "</table>\n",
              "<p>1362 rows × 2 columns</p>\n",
              "</div>"
            ],
            "text/plain": [
              "                                   area   cnt\n",
              "0                                Москва  5333\n",
              "1                       Санкт-Петербург  2851\n",
              "2                                 Минск  2112\n",
              "3                           Новосибирск  2006\n",
              "4                                Алматы  1892\n",
              "...                                 ...   ...\n",
              "1357                         Багаевская     0\n",
              "1358                         Пролетарск     0\n",
              "1359                       Седельниково     0\n",
              "1360                             Инской     0\n",
              "1361  Белоярский (Свердловская область)     0\n",
              "\n",
              "[1362 rows x 2 columns]"
            ]
          },
          "metadata": {},
          "output_type": "display_data"
        }
      ],
      "source": [
        "df4_1 = pd.read_sql_query(query_4_1, connection)\n",
        "display(df4_1)"
      ]
    },
    {
      "cell_type": "code",
      "execution_count": 149,
      "id": "8b92ba35",
      "metadata": {},
      "outputs": [],
      "source": [
        "# сделаем дополнительный запрос для построения наглядной диаграммы распределения вакансий по регионам,\n",
        "# где будем рассматривоть города с количеством вакансий не меньше 1000, а остальные объеденим в группу \"Другие\"\n",
        "\n",
        "query_4_1_1 = f'''\n",
        "SELECT                                          \n",
        "    a.name area,                                /*столбец name таблицы a с названием area*/\n",
        "    COUNT(v.id) cnt                             /*подсчёт строк по столбцу id таблицы v с названием cnt*/\n",
        "FROM \n",
        "    areas a                                     /*из таблицы areas с алиасом a*/\n",
        "    LEFT JOIN vacancies v ON v.area_id = a.id   /*оператор соединения таблиц; таблица vacancies с алиасом v; условие: area_id таблицы v равен id таблицы a*/\n",
        "GROUP BY 1                                      /*группировка по 1-му столбцу*/\n",
        "HAVING COUNT(v.id) >= 1000                      /*при условии, что кол-во вакансий в регионе не менее 1000*/\n",
        "                     \n",
        "UNION ALL                                       /*оператор присоединения запросов*/\n",
        "\n",
        "SELECT                                                                         \n",
        "    'Другие',                                   /*создаем столбец 'Другие'*/\n",
        "    SUM(c)                                      /*суммируем значения столбца c*/\n",
        "FROM (                                          \n",
        "    SELECT                                      /*из подзапроса*/\n",
        "        COUNT(id) c                             /*подсчёт строк по столбцу id с названием c*/\n",
        "    FROM vacancies                              /*из таблицы vacancies*/\n",
        "    GROUP BY area_id                            /*группировка по столбцу area_id*/\n",
        "    HAVING COUNT(id) < 1000                     /*при условии, что кол-во вакансий в регионе меньше 1000*/\n",
        "    ) others                                    /*называем подзапрос*/\n",
        "ORDER BY cnt DESC                               /*сортировка по столбцу cnt в порядке убывания*/\n",
        "'''\n"
      ]
    },
    {
      "cell_type": "code",
      "execution_count": 150,
      "id": "2c98db2c",
      "metadata": {},
      "outputs": [
        {
          "data": {
            "application/vnd.plotly.v1+json": {
              "config": {
                "plotlyServerURL": "https://plot.ly"
              },
              "data": [
                {
                  "labels": [
                    "Другие",
                    "Москва",
                    "Санкт-Петербург",
                    "Минск",
                    "Новосибирск",
                    "Алматы",
                    "Екатеринбург",
                    "Нижний Новгород",
                    "Казань",
                    "Краснодар",
                    "Самара",
                    "Ростов-на-Дону",
                    "Воронеж"
                  ],
                  "type": "pie",
                  "values": [
                    25581,
                    5333,
                    2851,
                    2112,
                    2006,
                    1892,
                    1698,
                    1670,
                    1415,
                    1301,
                    1144,
                    1131,
                    1063
                  ]
                }
              ],
              "layout": {
                "template": {
                  "data": {
                    "bar": [
                      {
                        "error_x": {
                          "color": "#2a3f5f"
                        },
                        "error_y": {
                          "color": "#2a3f5f"
                        },
                        "marker": {
                          "line": {
                            "color": "#E5ECF6",
                            "width": 0.5
                          },
                          "pattern": {
                            "fillmode": "overlay",
                            "size": 10,
                            "solidity": 0.2
                          }
                        },
                        "type": "bar"
                      }
                    ],
                    "barpolar": [
                      {
                        "marker": {
                          "line": {
                            "color": "#E5ECF6",
                            "width": 0.5
                          },
                          "pattern": {
                            "fillmode": "overlay",
                            "size": 10,
                            "solidity": 0.2
                          }
                        },
                        "type": "barpolar"
                      }
                    ],
                    "carpet": [
                      {
                        "aaxis": {
                          "endlinecolor": "#2a3f5f",
                          "gridcolor": "white",
                          "linecolor": "white",
                          "minorgridcolor": "white",
                          "startlinecolor": "#2a3f5f"
                        },
                        "baxis": {
                          "endlinecolor": "#2a3f5f",
                          "gridcolor": "white",
                          "linecolor": "white",
                          "minorgridcolor": "white",
                          "startlinecolor": "#2a3f5f"
                        },
                        "type": "carpet"
                      }
                    ],
                    "choropleth": [
                      {
                        "colorbar": {
                          "outlinewidth": 0,
                          "ticks": ""
                        },
                        "type": "choropleth"
                      }
                    ],
                    "contour": [
                      {
                        "colorbar": {
                          "outlinewidth": 0,
                          "ticks": ""
                        },
                        "colorscale": [
                          [
                            0,
                            "#0d0887"
                          ],
                          [
                            0.1111111111111111,
                            "#46039f"
                          ],
                          [
                            0.2222222222222222,
                            "#7201a8"
                          ],
                          [
                            0.3333333333333333,
                            "#9c179e"
                          ],
                          [
                            0.4444444444444444,
                            "#bd3786"
                          ],
                          [
                            0.5555555555555556,
                            "#d8576b"
                          ],
                          [
                            0.6666666666666666,
                            "#ed7953"
                          ],
                          [
                            0.7777777777777778,
                            "#fb9f3a"
                          ],
                          [
                            0.8888888888888888,
                            "#fdca26"
                          ],
                          [
                            1,
                            "#f0f921"
                          ]
                        ],
                        "type": "contour"
                      }
                    ],
                    "contourcarpet": [
                      {
                        "colorbar": {
                          "outlinewidth": 0,
                          "ticks": ""
                        },
                        "type": "contourcarpet"
                      }
                    ],
                    "heatmap": [
                      {
                        "colorbar": {
                          "outlinewidth": 0,
                          "ticks": ""
                        },
                        "colorscale": [
                          [
                            0,
                            "#0d0887"
                          ],
                          [
                            0.1111111111111111,
                            "#46039f"
                          ],
                          [
                            0.2222222222222222,
                            "#7201a8"
                          ],
                          [
                            0.3333333333333333,
                            "#9c179e"
                          ],
                          [
                            0.4444444444444444,
                            "#bd3786"
                          ],
                          [
                            0.5555555555555556,
                            "#d8576b"
                          ],
                          [
                            0.6666666666666666,
                            "#ed7953"
                          ],
                          [
                            0.7777777777777778,
                            "#fb9f3a"
                          ],
                          [
                            0.8888888888888888,
                            "#fdca26"
                          ],
                          [
                            1,
                            "#f0f921"
                          ]
                        ],
                        "type": "heatmap"
                      }
                    ],
                    "heatmapgl": [
                      {
                        "colorbar": {
                          "outlinewidth": 0,
                          "ticks": ""
                        },
                        "colorscale": [
                          [
                            0,
                            "#0d0887"
                          ],
                          [
                            0.1111111111111111,
                            "#46039f"
                          ],
                          [
                            0.2222222222222222,
                            "#7201a8"
                          ],
                          [
                            0.3333333333333333,
                            "#9c179e"
                          ],
                          [
                            0.4444444444444444,
                            "#bd3786"
                          ],
                          [
                            0.5555555555555556,
                            "#d8576b"
                          ],
                          [
                            0.6666666666666666,
                            "#ed7953"
                          ],
                          [
                            0.7777777777777778,
                            "#fb9f3a"
                          ],
                          [
                            0.8888888888888888,
                            "#fdca26"
                          ],
                          [
                            1,
                            "#f0f921"
                          ]
                        ],
                        "type": "heatmapgl"
                      }
                    ],
                    "histogram": [
                      {
                        "marker": {
                          "pattern": {
                            "fillmode": "overlay",
                            "size": 10,
                            "solidity": 0.2
                          }
                        },
                        "type": "histogram"
                      }
                    ],
                    "histogram2d": [
                      {
                        "colorbar": {
                          "outlinewidth": 0,
                          "ticks": ""
                        },
                        "colorscale": [
                          [
                            0,
                            "#0d0887"
                          ],
                          [
                            0.1111111111111111,
                            "#46039f"
                          ],
                          [
                            0.2222222222222222,
                            "#7201a8"
                          ],
                          [
                            0.3333333333333333,
                            "#9c179e"
                          ],
                          [
                            0.4444444444444444,
                            "#bd3786"
                          ],
                          [
                            0.5555555555555556,
                            "#d8576b"
                          ],
                          [
                            0.6666666666666666,
                            "#ed7953"
                          ],
                          [
                            0.7777777777777778,
                            "#fb9f3a"
                          ],
                          [
                            0.8888888888888888,
                            "#fdca26"
                          ],
                          [
                            1,
                            "#f0f921"
                          ]
                        ],
                        "type": "histogram2d"
                      }
                    ],
                    "histogram2dcontour": [
                      {
                        "colorbar": {
                          "outlinewidth": 0,
                          "ticks": ""
                        },
                        "colorscale": [
                          [
                            0,
                            "#0d0887"
                          ],
                          [
                            0.1111111111111111,
                            "#46039f"
                          ],
                          [
                            0.2222222222222222,
                            "#7201a8"
                          ],
                          [
                            0.3333333333333333,
                            "#9c179e"
                          ],
                          [
                            0.4444444444444444,
                            "#bd3786"
                          ],
                          [
                            0.5555555555555556,
                            "#d8576b"
                          ],
                          [
                            0.6666666666666666,
                            "#ed7953"
                          ],
                          [
                            0.7777777777777778,
                            "#fb9f3a"
                          ],
                          [
                            0.8888888888888888,
                            "#fdca26"
                          ],
                          [
                            1,
                            "#f0f921"
                          ]
                        ],
                        "type": "histogram2dcontour"
                      }
                    ],
                    "mesh3d": [
                      {
                        "colorbar": {
                          "outlinewidth": 0,
                          "ticks": ""
                        },
                        "type": "mesh3d"
                      }
                    ],
                    "parcoords": [
                      {
                        "line": {
                          "colorbar": {
                            "outlinewidth": 0,
                            "ticks": ""
                          }
                        },
                        "type": "parcoords"
                      }
                    ],
                    "pie": [
                      {
                        "automargin": true,
                        "type": "pie"
                      }
                    ],
                    "scatter": [
                      {
                        "fillpattern": {
                          "fillmode": "overlay",
                          "size": 10,
                          "solidity": 0.2
                        },
                        "type": "scatter"
                      }
                    ],
                    "scatter3d": [
                      {
                        "line": {
                          "colorbar": {
                            "outlinewidth": 0,
                            "ticks": ""
                          }
                        },
                        "marker": {
                          "colorbar": {
                            "outlinewidth": 0,
                            "ticks": ""
                          }
                        },
                        "type": "scatter3d"
                      }
                    ],
                    "scattercarpet": [
                      {
                        "marker": {
                          "colorbar": {
                            "outlinewidth": 0,
                            "ticks": ""
                          }
                        },
                        "type": "scattercarpet"
                      }
                    ],
                    "scattergeo": [
                      {
                        "marker": {
                          "colorbar": {
                            "outlinewidth": 0,
                            "ticks": ""
                          }
                        },
                        "type": "scattergeo"
                      }
                    ],
                    "scattergl": [
                      {
                        "marker": {
                          "colorbar": {
                            "outlinewidth": 0,
                            "ticks": ""
                          }
                        },
                        "type": "scattergl"
                      }
                    ],
                    "scattermapbox": [
                      {
                        "marker": {
                          "colorbar": {
                            "outlinewidth": 0,
                            "ticks": ""
                          }
                        },
                        "type": "scattermapbox"
                      }
                    ],
                    "scatterpolar": [
                      {
                        "marker": {
                          "colorbar": {
                            "outlinewidth": 0,
                            "ticks": ""
                          }
                        },
                        "type": "scatterpolar"
                      }
                    ],
                    "scatterpolargl": [
                      {
                        "marker": {
                          "colorbar": {
                            "outlinewidth": 0,
                            "ticks": ""
                          }
                        },
                        "type": "scatterpolargl"
                      }
                    ],
                    "scatterternary": [
                      {
                        "marker": {
                          "colorbar": {
                            "outlinewidth": 0,
                            "ticks": ""
                          }
                        },
                        "type": "scatterternary"
                      }
                    ],
                    "surface": [
                      {
                        "colorbar": {
                          "outlinewidth": 0,
                          "ticks": ""
                        },
                        "colorscale": [
                          [
                            0,
                            "#0d0887"
                          ],
                          [
                            0.1111111111111111,
                            "#46039f"
                          ],
                          [
                            0.2222222222222222,
                            "#7201a8"
                          ],
                          [
                            0.3333333333333333,
                            "#9c179e"
                          ],
                          [
                            0.4444444444444444,
                            "#bd3786"
                          ],
                          [
                            0.5555555555555556,
                            "#d8576b"
                          ],
                          [
                            0.6666666666666666,
                            "#ed7953"
                          ],
                          [
                            0.7777777777777778,
                            "#fb9f3a"
                          ],
                          [
                            0.8888888888888888,
                            "#fdca26"
                          ],
                          [
                            1,
                            "#f0f921"
                          ]
                        ],
                        "type": "surface"
                      }
                    ],
                    "table": [
                      {
                        "cells": {
                          "fill": {
                            "color": "#EBF0F8"
                          },
                          "line": {
                            "color": "white"
                          }
                        },
                        "header": {
                          "fill": {
                            "color": "#C8D4E3"
                          },
                          "line": {
                            "color": "white"
                          }
                        },
                        "type": "table"
                      }
                    ]
                  },
                  "layout": {
                    "annotationdefaults": {
                      "arrowcolor": "#2a3f5f",
                      "arrowhead": 0,
                      "arrowwidth": 1
                    },
                    "autotypenumbers": "strict",
                    "coloraxis": {
                      "colorbar": {
                        "outlinewidth": 0,
                        "ticks": ""
                      }
                    },
                    "colorscale": {
                      "diverging": [
                        [
                          0,
                          "#8e0152"
                        ],
                        [
                          0.1,
                          "#c51b7d"
                        ],
                        [
                          0.2,
                          "#de77ae"
                        ],
                        [
                          0.3,
                          "#f1b6da"
                        ],
                        [
                          0.4,
                          "#fde0ef"
                        ],
                        [
                          0.5,
                          "#f7f7f7"
                        ],
                        [
                          0.6,
                          "#e6f5d0"
                        ],
                        [
                          0.7,
                          "#b8e186"
                        ],
                        [
                          0.8,
                          "#7fbc41"
                        ],
                        [
                          0.9,
                          "#4d9221"
                        ],
                        [
                          1,
                          "#276419"
                        ]
                      ],
                      "sequential": [
                        [
                          0,
                          "#0d0887"
                        ],
                        [
                          0.1111111111111111,
                          "#46039f"
                        ],
                        [
                          0.2222222222222222,
                          "#7201a8"
                        ],
                        [
                          0.3333333333333333,
                          "#9c179e"
                        ],
                        [
                          0.4444444444444444,
                          "#bd3786"
                        ],
                        [
                          0.5555555555555556,
                          "#d8576b"
                        ],
                        [
                          0.6666666666666666,
                          "#ed7953"
                        ],
                        [
                          0.7777777777777778,
                          "#fb9f3a"
                        ],
                        [
                          0.8888888888888888,
                          "#fdca26"
                        ],
                        [
                          1,
                          "#f0f921"
                        ]
                      ],
                      "sequentialminus": [
                        [
                          0,
                          "#0d0887"
                        ],
                        [
                          0.1111111111111111,
                          "#46039f"
                        ],
                        [
                          0.2222222222222222,
                          "#7201a8"
                        ],
                        [
                          0.3333333333333333,
                          "#9c179e"
                        ],
                        [
                          0.4444444444444444,
                          "#bd3786"
                        ],
                        [
                          0.5555555555555556,
                          "#d8576b"
                        ],
                        [
                          0.6666666666666666,
                          "#ed7953"
                        ],
                        [
                          0.7777777777777778,
                          "#fb9f3a"
                        ],
                        [
                          0.8888888888888888,
                          "#fdca26"
                        ],
                        [
                          1,
                          "#f0f921"
                        ]
                      ]
                    },
                    "colorway": [
                      "#636efa",
                      "#EF553B",
                      "#00cc96",
                      "#ab63fa",
                      "#FFA15A",
                      "#19d3f3",
                      "#FF6692",
                      "#B6E880",
                      "#FF97FF",
                      "#FECB52"
                    ],
                    "font": {
                      "color": "#2a3f5f"
                    },
                    "geo": {
                      "bgcolor": "white",
                      "lakecolor": "white",
                      "landcolor": "#E5ECF6",
                      "showlakes": true,
                      "showland": true,
                      "subunitcolor": "white"
                    },
                    "hoverlabel": {
                      "align": "left"
                    },
                    "hovermode": "closest",
                    "mapbox": {
                      "style": "light"
                    },
                    "paper_bgcolor": "white",
                    "plot_bgcolor": "#E5ECF6",
                    "polar": {
                      "angularaxis": {
                        "gridcolor": "white",
                        "linecolor": "white",
                        "ticks": ""
                      },
                      "bgcolor": "#E5ECF6",
                      "radialaxis": {
                        "gridcolor": "white",
                        "linecolor": "white",
                        "ticks": ""
                      }
                    },
                    "scene": {
                      "xaxis": {
                        "backgroundcolor": "#E5ECF6",
                        "gridcolor": "white",
                        "gridwidth": 2,
                        "linecolor": "white",
                        "showbackground": true,
                        "ticks": "",
                        "zerolinecolor": "white"
                      },
                      "yaxis": {
                        "backgroundcolor": "#E5ECF6",
                        "gridcolor": "white",
                        "gridwidth": 2,
                        "linecolor": "white",
                        "showbackground": true,
                        "ticks": "",
                        "zerolinecolor": "white"
                      },
                      "zaxis": {
                        "backgroundcolor": "#E5ECF6",
                        "gridcolor": "white",
                        "gridwidth": 2,
                        "linecolor": "white",
                        "showbackground": true,
                        "ticks": "",
                        "zerolinecolor": "white"
                      }
                    },
                    "shapedefaults": {
                      "line": {
                        "color": "#2a3f5f"
                      }
                    },
                    "ternary": {
                      "aaxis": {
                        "gridcolor": "white",
                        "linecolor": "white",
                        "ticks": ""
                      },
                      "baxis": {
                        "gridcolor": "white",
                        "linecolor": "white",
                        "ticks": ""
                      },
                      "bgcolor": "#E5ECF6",
                      "caxis": {
                        "gridcolor": "white",
                        "linecolor": "white",
                        "ticks": ""
                      }
                    },
                    "title": {
                      "x": 0.05
                    },
                    "xaxis": {
                      "automargin": true,
                      "gridcolor": "white",
                      "linecolor": "white",
                      "ticks": "",
                      "title": {
                        "standoff": 15
                      },
                      "zerolinecolor": "white",
                      "zerolinewidth": 2
                    },
                    "yaxis": {
                      "automargin": true,
                      "gridcolor": "white",
                      "linecolor": "white",
                      "ticks": "",
                      "title": {
                        "standoff": 15
                      },
                      "zerolinecolor": "white",
                      "zerolinewidth": 2
                    }
                  }
                },
                "title": {
                  "font": {
                    "color": "green",
                    "size": 20
                  },
                  "text": "Соотношение вакансий по регионам",
                  "x": 0.45,
                  "xanchor": "center",
                  "y": 0.9,
                  "yanchor": "top"
                }
              }
            }
          },
          "metadata": {},
          "output_type": "display_data"
        }
      ],
      "source": [
        "df4_1_1 = pd.read_sql_query(query_4_1_1, connection)\n",
        "\n",
        "# построим диаграмму распределения вакансий по регионам\n",
        "\n",
        "fig1 = go.Figure(go.Pie(            # задаем круговую диаграмму\n",
        "    values = df4_1_1['cnt'],        # где сектора это количество вакансий\n",
        "    labels = df4_1_1['area']        # название регинов по этим секторам\n",
        "))\n",
        "\n",
        "fig1.update_layout(\n",
        "    title = {\n",
        "        'text': 'Соотношение вакансий по регионам',\n",
        "        'y': 0.9,\n",
        "        'x': 0.45,\n",
        "        'xanchor': 'center',\n",
        "        'yanchor': 'top'\n",
        "    },\n",
        "    titlefont = {'size': 20, 'color': 'green'}\n",
        "    )\n",
        "fig1.show()"
      ]
    },
    {
      "cell_type": "markdown",
      "id": "4266f0b6-1646-492a-88b4-2f6a46502135",
      "metadata": {
        "id": "4266f0b6-1646-492a-88b4-2f6a46502135"
      },
      "source": [
        "2. Напишите запрос, чтобы определить у какого количества вакансий заполнено хотя бы одно из двух полей с зарплатой."
      ]
    },
    {
      "cell_type": "code",
      "execution_count": 151,
      "id": "0c44b350-72eb-4d65-8b54-a1fc449ba9fd",
      "metadata": {
        "id": "0c44b350-72eb-4d65-8b54-a1fc449ba9fd"
      },
      "outputs": [],
      "source": [
        "query_4_2 = f'''\n",
        "SELECT \n",
        "    COUNT(*)                                            /*подсчёт всех строк*/\n",
        "FROM \n",
        "    vacancies                                           /*из таблицы vacancies*/ \n",
        "WHERE salary_from IS NOT NULL OR salary_to IS NOT NULL  /*где хотя бы одно из двух полей с зарплатой заполнено*/\n",
        "'''"
      ]
    },
    {
      "cell_type": "code",
      "execution_count": 152,
      "id": "rhvwaMDkoWTi",
      "metadata": {
        "id": "rhvwaMDkoWTi"
      },
      "outputs": [
        {
          "name": "stdout",
          "output_type": "stream",
          "text": [
            "Количество вакансий с заполненным хотя бы одним полем с зарплатой: 24073\n"
          ]
        }
      ],
      "source": [
        "df4_2 = pd.read_sql_query(query_4_2, connection)\n",
        "print('Количество вакансий с заполненным хотя бы одним полем с зарплатой:', df4_2['count'][0])"
      ]
    },
    {
      "cell_type": "markdown",
      "id": "635c4d5d-f323-4c66-b428-50a088120aa0",
      "metadata": {
        "id": "635c4d5d-f323-4c66-b428-50a088120aa0"
      },
      "source": [
        "3. Найдите средние значения для нижней и верхней границы зарплатной вилки. Округлите значения до целого."
      ]
    },
    {
      "cell_type": "code",
      "execution_count": 153,
      "id": "603cdbe4-0ec3-4106-8eaf-c73fcdd29165",
      "metadata": {
        "id": "603cdbe4-0ec3-4106-8eaf-c73fcdd29165"
      },
      "outputs": [],
      "source": [
        "query_4_3 = f'''\n",
        "SELECT \n",
        "    ROUND(AVG(salary_from)) sf,    /*находим среднее значение для столбца salary_from и округляем его*/\n",
        "    ROUND(AVG(salary_to)) st       /*находим среднее значение для столбца salary_to и округляем его*/\n",
        "FROM \n",
        "    vacancies                      /*из таблицы vacancies*/\n",
        "'''"
      ]
    },
    {
      "cell_type": "code",
      "execution_count": 154,
      "id": "pswpAb66ovZZ",
      "metadata": {
        "id": "pswpAb66ovZZ"
      },
      "outputs": [
        {
          "name": "stdout",
          "output_type": "stream",
          "text": [
            "Среднее значение для нижней границы зарплатной вилки: 71065.0\n",
            "Среднее значение для верхней границы зарплатной вилки: 110537.0\n"
          ]
        }
      ],
      "source": [
        "df4_3 = pd.read_sql_query(query_4_3, connection)\n",
        "print('Среднее значение для нижней границы зарплатной вилки:', df4_3['sf'][0])\n",
        "print('Среднее значение для верхней границы зарплатной вилки:', df4_3['st'][0])"
      ]
    },
    {
      "cell_type": "markdown",
      "id": "f3fdaec9-5fd3-4260-9cf5-1d7406b628a5",
      "metadata": {
        "id": "f3fdaec9-5fd3-4260-9cf5-1d7406b628a5"
      },
      "source": [
        "4. Напишите запрос, который выведет количество вакансий для каждого сочетания типа рабочего графика (schedule) и типа трудоустройства (employment), используемого в вакансиях. Результат отсортируйте по убыванию количества.\n"
      ]
    },
    {
      "cell_type": "code",
      "execution_count": 155,
      "id": "1ea710ec-871b-431e-9462-c7d0fd87011b",
      "metadata": {
        "id": "1ea710ec-871b-431e-9462-c7d0fd87011b"
      },
      "outputs": [],
      "source": [
        "query_4_4 = f'''\n",
        "SELECT \n",
        "    schedule,       /*столбец schedule*/\n",
        "    employment,     /*столбец employment*/\n",
        "    COUNT(*)        /*подсчёт всех строк*/\n",
        "FROM \n",
        "    vacancies       /*из таблицы vacancies*/\n",
        "GROUP BY 1, 2       /*группировка по столбцу schedule и затем employment*/\n",
        "ORDER BY 3 DESC     /*сортировка по 3-му столбцу в порядке убывания*/\n",
        "'''"
      ]
    },
    {
      "cell_type": "code",
      "execution_count": 156,
      "id": "lGUVqavdo4JQ",
      "metadata": {
        "id": "lGUVqavdo4JQ"
      },
      "outputs": [
        {
          "data": {
            "text/html": [
              "<div>\n",
              "<style scoped>\n",
              "    .dataframe tbody tr th:only-of-type {\n",
              "        vertical-align: middle;\n",
              "    }\n",
              "\n",
              "    .dataframe tbody tr th {\n",
              "        vertical-align: top;\n",
              "    }\n",
              "\n",
              "    .dataframe thead th {\n",
              "        text-align: right;\n",
              "    }\n",
              "</style>\n",
              "<table border=\"1\" class=\"dataframe\">\n",
              "  <thead>\n",
              "    <tr style=\"text-align: right;\">\n",
              "      <th></th>\n",
              "      <th>schedule</th>\n",
              "      <th>employment</th>\n",
              "      <th>count</th>\n",
              "    </tr>\n",
              "  </thead>\n",
              "  <tbody>\n",
              "    <tr>\n",
              "      <th>0</th>\n",
              "      <td>Полный день</td>\n",
              "      <td>Полная занятость</td>\n",
              "      <td>35367</td>\n",
              "    </tr>\n",
              "    <tr>\n",
              "      <th>1</th>\n",
              "      <td>Удаленная работа</td>\n",
              "      <td>Полная занятость</td>\n",
              "      <td>7802</td>\n",
              "    </tr>\n",
              "    <tr>\n",
              "      <th>2</th>\n",
              "      <td>Гибкий график</td>\n",
              "      <td>Полная занятость</td>\n",
              "      <td>1593</td>\n",
              "    </tr>\n",
              "    <tr>\n",
              "      <th>3</th>\n",
              "      <td>Удаленная работа</td>\n",
              "      <td>Частичная занятость</td>\n",
              "      <td>1312</td>\n",
              "    </tr>\n",
              "    <tr>\n",
              "      <th>4</th>\n",
              "      <td>Сменный график</td>\n",
              "      <td>Полная занятость</td>\n",
              "      <td>940</td>\n",
              "    </tr>\n",
              "    <tr>\n",
              "      <th>5</th>\n",
              "      <td>Полный день</td>\n",
              "      <td>Стажировка</td>\n",
              "      <td>569</td>\n",
              "    </tr>\n",
              "    <tr>\n",
              "      <th>6</th>\n",
              "      <td>Вахтовый метод</td>\n",
              "      <td>Полная занятость</td>\n",
              "      <td>367</td>\n",
              "    </tr>\n",
              "    <tr>\n",
              "      <th>7</th>\n",
              "      <td>Полный день</td>\n",
              "      <td>Частичная занятость</td>\n",
              "      <td>347</td>\n",
              "    </tr>\n",
              "    <tr>\n",
              "      <th>8</th>\n",
              "      <td>Гибкий график</td>\n",
              "      <td>Частичная занятость</td>\n",
              "      <td>312</td>\n",
              "    </tr>\n",
              "    <tr>\n",
              "      <th>9</th>\n",
              "      <td>Полный день</td>\n",
              "      <td>Проектная работа</td>\n",
              "      <td>141</td>\n",
              "    </tr>\n",
              "    <tr>\n",
              "      <th>10</th>\n",
              "      <td>Удаленная работа</td>\n",
              "      <td>Проектная работа</td>\n",
              "      <td>133</td>\n",
              "    </tr>\n",
              "    <tr>\n",
              "      <th>11</th>\n",
              "      <td>Гибкий график</td>\n",
              "      <td>Стажировка</td>\n",
              "      <td>116</td>\n",
              "    </tr>\n",
              "    <tr>\n",
              "      <th>12</th>\n",
              "      <td>Сменный график</td>\n",
              "      <td>Частичная занятость</td>\n",
              "      <td>101</td>\n",
              "    </tr>\n",
              "    <tr>\n",
              "      <th>13</th>\n",
              "      <td>Удаленная работа</td>\n",
              "      <td>Стажировка</td>\n",
              "      <td>64</td>\n",
              "    </tr>\n",
              "    <tr>\n",
              "      <th>14</th>\n",
              "      <td>Гибкий график</td>\n",
              "      <td>Проектная работа</td>\n",
              "      <td>18</td>\n",
              "    </tr>\n",
              "    <tr>\n",
              "      <th>15</th>\n",
              "      <td>Сменный график</td>\n",
              "      <td>Стажировка</td>\n",
              "      <td>12</td>\n",
              "    </tr>\n",
              "    <tr>\n",
              "      <th>16</th>\n",
              "      <td>Вахтовый метод</td>\n",
              "      <td>Проектная работа</td>\n",
              "      <td>2</td>\n",
              "    </tr>\n",
              "    <tr>\n",
              "      <th>17</th>\n",
              "      <td>Сменный график</td>\n",
              "      <td>Проектная работа</td>\n",
              "      <td>1</td>\n",
              "    </tr>\n",
              "  </tbody>\n",
              "</table>\n",
              "</div>"
            ],
            "text/plain": [
              "            schedule           employment  count\n",
              "0        Полный день     Полная занятость  35367\n",
              "1   Удаленная работа     Полная занятость   7802\n",
              "2      Гибкий график     Полная занятость   1593\n",
              "3   Удаленная работа  Частичная занятость   1312\n",
              "4     Сменный график     Полная занятость    940\n",
              "5        Полный день           Стажировка    569\n",
              "6     Вахтовый метод     Полная занятость    367\n",
              "7        Полный день  Частичная занятость    347\n",
              "8      Гибкий график  Частичная занятость    312\n",
              "9        Полный день     Проектная работа    141\n",
              "10  Удаленная работа     Проектная работа    133\n",
              "11     Гибкий график           Стажировка    116\n",
              "12    Сменный график  Частичная занятость    101\n",
              "13  Удаленная работа           Стажировка     64\n",
              "14     Гибкий график     Проектная работа     18\n",
              "15    Сменный график           Стажировка     12\n",
              "16    Вахтовый метод     Проектная работа      2\n",
              "17    Сменный график     Проектная работа      1"
            ]
          },
          "metadata": {},
          "output_type": "display_data"
        }
      ],
      "source": [
        "df4_4 = pd.read_sql_query(query_4_4, connection)\n",
        "display(df4_4)\n",
        "\n"
      ]
    },
    {
      "cell_type": "code",
      "execution_count": 157,
      "id": "102ece2e",
      "metadata": {},
      "outputs": [
        {
          "data": {
            "image/png": "[encoded data removed]",
            "text/plain": [
              "<Figure size 1200x600 with 2 Axes>"
            ]
          },
          "metadata": {},
          "output_type": "display_data"
        }
      ],
      "source": [
        "# построим тепловую карту вакансий в зависимости от графика работы и типа трудоустройства\n",
        "heat_map = df4_4.pivot_table(\n",
        "    values = 'count',\n",
        "    index = 'schedule',\n",
        "    columns = 'employment'\n",
        ")\n",
        "plt.figure(figsize=(12,6))\n",
        "heatmap = sns.heatmap(heat_map, cmap='Blues', annot=True, fmt='g')\n",
        "heatmap.set_title('Тепловая карта доли вакансий по графику работы и типу трудоустройства', fontsize=14);\n",
        "heatmap.set_xlabel(\"Тип трудоустройства\")\n",
        "heatmap.set_ylabel(\"График работы\");"
      ]
    },
    {
      "cell_type": "markdown",
      "id": "0136ffee-0ead-4a6b-b608-61d1c753a438",
      "metadata": {
        "id": "0136ffee-0ead-4a6b-b608-61d1c753a438"
      },
      "source": [
        "5. Напишите запрос, выводящий значения поля Требуемый опыт работы (experience) в порядке возрастания количества вакансий, в которых указан данный вариант опыта. "
      ]
    },
    {
      "cell_type": "code",
      "execution_count": 158,
      "id": "5b3a8e79-f7ab-4008-b767-12aea3a205ea",
      "metadata": {
        "id": "5b3a8e79-f7ab-4008-b767-12aea3a205ea"
      },
      "outputs": [],
      "source": [
        "query_4_5 = f'''\n",
        "SELECT \n",
        "    experience, /*столбец experience*/\n",
        "    COUNT(*)    /*подсчёт всех строк*/\n",
        "FROM \n",
        "    vacancies   /*из таблицы vacancies*/\n",
        "GROUP BY 1      /*группировка по столбцу experience*/\n",
        "ORDER BY 2      /*сортировка по 2-му столбцу в порядке возрастания*/\n",
        "'''"
      ]
    },
    {
      "cell_type": "code",
      "execution_count": 159,
      "id": "3Is64Y-hpDpq",
      "metadata": {
        "id": "3Is64Y-hpDpq"
      },
      "outputs": [
        {
          "data": {
            "text/html": [
              "<div>\n",
              "<style scoped>\n",
              "    .dataframe tbody tr th:only-of-type {\n",
              "        vertical-align: middle;\n",
              "    }\n",
              "\n",
              "    .dataframe tbody tr th {\n",
              "        vertical-align: top;\n",
              "    }\n",
              "\n",
              "    .dataframe thead th {\n",
              "        text-align: right;\n",
              "    }\n",
              "</style>\n",
              "<table border=\"1\" class=\"dataframe\">\n",
              "  <thead>\n",
              "    <tr style=\"text-align: right;\">\n",
              "      <th></th>\n",
              "      <th>experience</th>\n",
              "      <th>count</th>\n",
              "    </tr>\n",
              "  </thead>\n",
              "  <tbody>\n",
              "    <tr>\n",
              "      <th>0</th>\n",
              "      <td>Более 6 лет</td>\n",
              "      <td>1337</td>\n",
              "    </tr>\n",
              "    <tr>\n",
              "      <th>1</th>\n",
              "      <td>Нет опыта</td>\n",
              "      <td>7197</td>\n",
              "    </tr>\n",
              "    <tr>\n",
              "      <th>2</th>\n",
              "      <td>От 3 до 6 лет</td>\n",
              "      <td>14511</td>\n",
              "    </tr>\n",
              "    <tr>\n",
              "      <th>3</th>\n",
              "      <td>От 1 года до 3 лет</td>\n",
              "      <td>26152</td>\n",
              "    </tr>\n",
              "  </tbody>\n",
              "</table>\n",
              "</div>"
            ],
            "text/plain": [
              "           experience  count\n",
              "0         Более 6 лет   1337\n",
              "1           Нет опыта   7197\n",
              "2       От 3 до 6 лет  14511\n",
              "3  От 1 года до 3 лет  26152"
            ]
          },
          "metadata": {},
          "output_type": "display_data"
        }
      ],
      "source": [
        "df4_5 = pd.read_sql_query(query_4_5, connection)\n",
        "display(df4_5)"
      ]
    },
    {
      "cell_type": "code",
      "execution_count": 160,
      "id": "80222e61",
      "metadata": {},
      "outputs": [
        {
          "data": {
            "application/vnd.plotly.v1+json": {
              "config": {
                "plotlyServerURL": "https://plot.ly"
              },
              "data": [
                {
                  "labels": [
                    "Более 6 лет",
                    "Нет опыта",
                    "От 3 до 6 лет",
                    "От 1 года до 3 лет"
                  ],
                  "type": "pie",
                  "values": [
                    1337,
                    7197,
                    14511,
                    26152
                  ]
                }
              ],
              "layout": {
                "template": {
                  "data": {
                    "bar": [
                      {
                        "error_x": {
                          "color": "#2a3f5f"
                        },
                        "error_y": {
                          "color": "#2a3f5f"
                        },
                        "marker": {
                          "line": {
                            "color": "#E5ECF6",
                            "width": 0.5
                          },
                          "pattern": {
                            "fillmode": "overlay",
                            "size": 10,
                            "solidity": 0.2
                          }
                        },
                        "type": "bar"
                      }
                    ],
                    "barpolar": [
                      {
                        "marker": {
                          "line": {
                            "color": "#E5ECF6",
                            "width": 0.5
                          },
                          "pattern": {
                            "fillmode": "overlay",
                            "size": 10,
                            "solidity": 0.2
                          }
                        },
                        "type": "barpolar"
                      }
                    ],
                    "carpet": [
                      {
                        "aaxis": {
                          "endlinecolor": "#2a3f5f",
                          "gridcolor": "white",
                          "linecolor": "white",
                          "minorgridcolor": "white",
                          "startlinecolor": "#2a3f5f"
                        },
                        "baxis": {
                          "endlinecolor": "#2a3f5f",
                          "gridcolor": "white",
                          "linecolor": "white",
                          "minorgridcolor": "white",
                          "startlinecolor": "#2a3f5f"
                        },
                        "type": "carpet"
                      }
                    ],
                    "choropleth": [
                      {
                        "colorbar": {
                          "outlinewidth": 0,
                          "ticks": ""
                        },
                        "type": "choropleth"
                      }
                    ],
                    "contour": [
                      {
                        "colorbar": {
                          "outlinewidth": 0,
                          "ticks": ""
                        },
                        "colorscale": [
                          [
                            0,
                            "#0d0887"
                          ],
                          [
                            0.1111111111111111,
                            "#46039f"
                          ],
                          [
                            0.2222222222222222,
                            "#7201a8"
                          ],
                          [
                            0.3333333333333333,
                            "#9c179e"
                          ],
                          [
                            0.4444444444444444,
                            "#bd3786"
                          ],
                          [
                            0.5555555555555556,
                            "#d8576b"
                          ],
                          [
                            0.6666666666666666,
                            "#ed7953"
                          ],
                          [
                            0.7777777777777778,
                            "#fb9f3a"
                          ],
                          [
                            0.8888888888888888,
                            "#fdca26"
                          ],
                          [
                            1,
                            "#f0f921"
                          ]
                        ],
                        "type": "contour"
                      }
                    ],
                    "contourcarpet": [
                      {
                        "colorbar": {
                          "outlinewidth": 0,
                          "ticks": ""
                        },
                        "type": "contourcarpet"
                      }
                    ],
                    "heatmap": [
                      {
                        "colorbar": {
                          "outlinewidth": 0,
                          "ticks": ""
                        },
                        "colorscale": [
                          [
                            0,
                            "#0d0887"
                          ],
                          [
                            0.1111111111111111,
                            "#46039f"
                          ],
                          [
                            0.2222222222222222,
                            "#7201a8"
                          ],
                          [
                            0.3333333333333333,
                            "#9c179e"
                          ],
                          [
                            0.4444444444444444,
                            "#bd3786"
                          ],
                          [
                            0.5555555555555556,
                            "#d8576b"
                          ],
                          [
                            0.6666666666666666,
                            "#ed7953"
                          ],
                          [
                            0.7777777777777778,
                            "#fb9f3a"
                          ],
                          [
                            0.8888888888888888,
                            "#fdca26"
                          ],
                          [
                            1,
                            "#f0f921"
                          ]
                        ],
                        "type": "heatmap"
                      }
                    ],
                    "heatmapgl": [
                      {
                        "colorbar": {
                          "outlinewidth": 0,
                          "ticks": ""
                        },
                        "colorscale": [
                          [
                            0,
                            "#0d0887"
                          ],
                          [
                            0.1111111111111111,
                            "#46039f"
                          ],
                          [
                            0.2222222222222222,
                            "#7201a8"
                          ],
                          [
                            0.3333333333333333,
                            "#9c179e"
                          ],
                          [
                            0.4444444444444444,
                            "#bd3786"
                          ],
                          [
                            0.5555555555555556,
                            "#d8576b"
                          ],
                          [
                            0.6666666666666666,
                            "#ed7953"
                          ],
                          [
                            0.7777777777777778,
                            "#fb9f3a"
                          ],
                          [
                            0.8888888888888888,
                            "#fdca26"
                          ],
                          [
                            1,
                            "#f0f921"
                          ]
                        ],
                        "type": "heatmapgl"
                      }
                    ],
                    "histogram": [
                      {
                        "marker": {
                          "pattern": {
                            "fillmode": "overlay",
                            "size": 10,
                            "solidity": 0.2
                          }
                        },
                        "type": "histogram"
                      }
                    ],
                    "histogram2d": [
                      {
                        "colorbar": {
                          "outlinewidth": 0,
                          "ticks": ""
                        },
                        "colorscale": [
                          [
                            0,
                            "#0d0887"
                          ],
                          [
                            0.1111111111111111,
                            "#46039f"
                          ],
                          [
                            0.2222222222222222,
                            "#7201a8"
                          ],
                          [
                            0.3333333333333333,
                            "#9c179e"
                          ],
                          [
                            0.4444444444444444,
                            "#bd3786"
                          ],
                          [
                            0.5555555555555556,
                            "#d8576b"
                          ],
                          [
                            0.6666666666666666,
                            "#ed7953"
                          ],
                          [
                            0.7777777777777778,
                            "#fb9f3a"
                          ],
                          [
                            0.8888888888888888,
                            "#fdca26"
                          ],
                          [
                            1,
                            "#f0f921"
                          ]
                        ],
                        "type": "histogram2d"
                      }
                    ],
                    "histogram2dcontour": [
                      {
                        "colorbar": {
                          "outlinewidth": 0,
                          "ticks": ""
                        },
                        "colorscale": [
                          [
                            0,
                            "#0d0887"
                          ],
                          [
                            0.1111111111111111,
                            "#46039f"
                          ],
                          [
                            0.2222222222222222,
                            "#7201a8"
                          ],
                          [
                            0.3333333333333333,
                            "#9c179e"
                          ],
                          [
                            0.4444444444444444,
                            "#bd3786"
                          ],
                          [
                            0.5555555555555556,
                            "#d8576b"
                          ],
                          [
                            0.6666666666666666,
                            "#ed7953"
                          ],
                          [
                            0.7777777777777778,
                            "#fb9f3a"
                          ],
                          [
                            0.8888888888888888,
                            "#fdca26"
                          ],
                          [
                            1,
                            "#f0f921"
                          ]
                        ],
                        "type": "histogram2dcontour"
                      }
                    ],
                    "mesh3d": [
                      {
                        "colorbar": {
                          "outlinewidth": 0,
                          "ticks": ""
                        },
                        "type": "mesh3d"
                      }
                    ],
                    "parcoords": [
                      {
                        "line": {
                          "colorbar": {
                            "outlinewidth": 0,
                            "ticks": ""
                          }
                        },
                        "type": "parcoords"
                      }
                    ],
                    "pie": [
                      {
                        "automargin": true,
                        "type": "pie"
                      }
                    ],
                    "scatter": [
                      {
                        "fillpattern": {
                          "fillmode": "overlay",
                          "size": 10,
                          "solidity": 0.2
                        },
                        "type": "scatter"
                      }
                    ],
                    "scatter3d": [
                      {
                        "line": {
                          "colorbar": {
                            "outlinewidth": 0,
                            "ticks": ""
                          }
                        },
                        "marker": {
                          "colorbar": {
                            "outlinewidth": 0,
                            "ticks": ""
                          }
                        },
                        "type": "scatter3d"
                      }
                    ],
                    "scattercarpet": [
                      {
                        "marker": {
                          "colorbar": {
                            "outlinewidth": 0,
                            "ticks": ""
                          }
                        },
                        "type": "scattercarpet"
                      }
                    ],
                    "scattergeo": [
                      {
                        "marker": {
                          "colorbar": {
                            "outlinewidth": 0,
                            "ticks": ""
                          }
                        },
                        "type": "scattergeo"
                      }
                    ],
                    "scattergl": [
                      {
                        "marker": {
                          "colorbar": {
                            "outlinewidth": 0,
                            "ticks": ""
                          }
                        },
                        "type": "scattergl"
                      }
                    ],
                    "scattermapbox": [
                      {
                        "marker": {
                          "colorbar": {
                            "outlinewidth": 0,
                            "ticks": ""
                          }
                        },
                        "type": "scattermapbox"
                      }
                    ],
                    "scatterpolar": [
                      {
                        "marker": {
                          "colorbar": {
                            "outlinewidth": 0,
                            "ticks": ""
                          }
                        },
                        "type": "scatterpolar"
                      }
                    ],
                    "scatterpolargl": [
                      {
                        "marker": {
                          "colorbar": {
                            "outlinewidth": 0,
                            "ticks": ""
                          }
                        },
                        "type": "scatterpolargl"
                      }
                    ],
                    "scatterternary": [
                      {
                        "marker": {
                          "colorbar": {
                            "outlinewidth": 0,
                            "ticks": ""
                          }
                        },
                        "type": "scatterternary"
                      }
                    ],
                    "surface": [
                      {
                        "colorbar": {
                          "outlinewidth": 0,
                          "ticks": ""
                        },
                        "colorscale": [
                          [
                            0,
                            "#0d0887"
                          ],
                          [
                            0.1111111111111111,
                            "#46039f"
                          ],
                          [
                            0.2222222222222222,
                            "#7201a8"
                          ],
                          [
                            0.3333333333333333,
                            "#9c179e"
                          ],
                          [
                            0.4444444444444444,
                            "#bd3786"
                          ],
                          [
                            0.5555555555555556,
                            "#d8576b"
                          ],
                          [
                            0.6666666666666666,
                            "#ed7953"
                          ],
                          [
                            0.7777777777777778,
                            "#fb9f3a"
                          ],
                          [
                            0.8888888888888888,
                            "#fdca26"
                          ],
                          [
                            1,
                            "#f0f921"
                          ]
                        ],
                        "type": "surface"
                      }
                    ],
                    "table": [
                      {
                        "cells": {
                          "fill": {
                            "color": "#EBF0F8"
                          },
                          "line": {
                            "color": "white"
                          }
                        },
                        "header": {
                          "fill": {
                            "color": "#C8D4E3"
                          },
                          "line": {
                            "color": "white"
                          }
                        },
                        "type": "table"
                      }
                    ]
                  },
                  "layout": {
                    "annotationdefaults": {
                      "arrowcolor": "#2a3f5f",
                      "arrowhead": 0,
                      "arrowwidth": 1
                    },
                    "autotypenumbers": "strict",
                    "coloraxis": {
                      "colorbar": {
                        "outlinewidth": 0,
                        "ticks": ""
                      }
                    },
                    "colorscale": {
                      "diverging": [
                        [
                          0,
                          "#8e0152"
                        ],
                        [
                          0.1,
                          "#c51b7d"
                        ],
                        [
                          0.2,
                          "#de77ae"
                        ],
                        [
                          0.3,
                          "#f1b6da"
                        ],
                        [
                          0.4,
                          "#fde0ef"
                        ],
                        [
                          0.5,
                          "#f7f7f7"
                        ],
                        [
                          0.6,
                          "#e6f5d0"
                        ],
                        [
                          0.7,
                          "#b8e186"
                        ],
                        [
                          0.8,
                          "#7fbc41"
                        ],
                        [
                          0.9,
                          "#4d9221"
                        ],
                        [
                          1,
                          "#276419"
                        ]
                      ],
                      "sequential": [
                        [
                          0,
                          "#0d0887"
                        ],
                        [
                          0.1111111111111111,
                          "#46039f"
                        ],
                        [
                          0.2222222222222222,
                          "#7201a8"
                        ],
                        [
                          0.3333333333333333,
                          "#9c179e"
                        ],
                        [
                          0.4444444444444444,
                          "#bd3786"
                        ],
                        [
                          0.5555555555555556,
                          "#d8576b"
                        ],
                        [
                          0.6666666666666666,
                          "#ed7953"
                        ],
                        [
                          0.7777777777777778,
                          "#fb9f3a"
                        ],
                        [
                          0.8888888888888888,
                          "#fdca26"
                        ],
                        [
                          1,
                          "#f0f921"
                        ]
                      ],
                      "sequentialminus": [
                        [
                          0,
                          "#0d0887"
                        ],
                        [
                          0.1111111111111111,
                          "#46039f"
                        ],
                        [
                          0.2222222222222222,
                          "#7201a8"
                        ],
                        [
                          0.3333333333333333,
                          "#9c179e"
                        ],
                        [
                          0.4444444444444444,
                          "#bd3786"
                        ],
                        [
                          0.5555555555555556,
                          "#d8576b"
                        ],
                        [
                          0.6666666666666666,
                          "#ed7953"
                        ],
                        [
                          0.7777777777777778,
                          "#fb9f3a"
                        ],
                        [
                          0.8888888888888888,
                          "#fdca26"
                        ],
                        [
                          1,
                          "#f0f921"
                        ]
                      ]
                    },
                    "colorway": [
                      "#636efa",
                      "#EF553B",
                      "#00cc96",
                      "#ab63fa",
                      "#FFA15A",
                      "#19d3f3",
                      "#FF6692",
                      "#B6E880",
                      "#FF97FF",
                      "#FECB52"
                    ],
                    "font": {
                      "color": "#2a3f5f"
                    },
                    "geo": {
                      "bgcolor": "white",
                      "lakecolor": "white",
                      "landcolor": "#E5ECF6",
                      "showlakes": true,
                      "showland": true,
                      "subunitcolor": "white"
                    },
                    "hoverlabel": {
                      "align": "left"
                    },
                    "hovermode": "closest",
                    "mapbox": {
                      "style": "light"
                    },
                    "paper_bgcolor": "white",
                    "plot_bgcolor": "#E5ECF6",
                    "polar": {
                      "angularaxis": {
                        "gridcolor": "white",
                        "linecolor": "white",
                        "ticks": ""
                      },
                      "bgcolor": "#E5ECF6",
                      "radialaxis": {
                        "gridcolor": "white",
                        "linecolor": "white",
                        "ticks": ""
                      }
                    },
                    "scene": {
                      "xaxis": {
                        "backgroundcolor": "#E5ECF6",
                        "gridcolor": "white",
                        "gridwidth": 2,
                        "linecolor": "white",
                        "showbackground": true,
                        "ticks": "",
                        "zerolinecolor": "white"
                      },
                      "yaxis": {
                        "backgroundcolor": "#E5ECF6",
                        "gridcolor": "white",
                        "gridwidth": 2,
                        "linecolor": "white",
                        "showbackground": true,
                        "ticks": "",
                        "zerolinecolor": "white"
                      },
                      "zaxis": {
                        "backgroundcolor": "#E5ECF6",
                        "gridcolor": "white",
                        "gridwidth": 2,
                        "linecolor": "white",
                        "showbackground": true,
                        "ticks": "",
                        "zerolinecolor": "white"
                      }
                    },
                    "shapedefaults": {
                      "line": {
                        "color": "#2a3f5f"
                      }
                    },
                    "ternary": {
                      "aaxis": {
                        "gridcolor": "white",
                        "linecolor": "white",
                        "ticks": ""
                      },
                      "baxis": {
                        "gridcolor": "white",
                        "linecolor": "white",
                        "ticks": ""
                      },
                      "bgcolor": "#E5ECF6",
                      "caxis": {
                        "gridcolor": "white",
                        "linecolor": "white",
                        "ticks": ""
                      }
                    },
                    "title": {
                      "x": 0.05
                    },
                    "xaxis": {
                      "automargin": true,
                      "gridcolor": "white",
                      "linecolor": "white",
                      "ticks": "",
                      "title": {
                        "standoff": 15
                      },
                      "zerolinecolor": "white",
                      "zerolinewidth": 2
                    },
                    "yaxis": {
                      "automargin": true,
                      "gridcolor": "white",
                      "linecolor": "white",
                      "ticks": "",
                      "title": {
                        "standoff": 15
                      },
                      "zerolinecolor": "white",
                      "zerolinewidth": 2
                    }
                  }
                },
                "title": {
                  "font": {
                    "color": "green",
                    "size": 20
                  },
                  "text": "Соотношение вакансий по опыту работы",
                  "x": 0.45,
                  "xanchor": "center",
                  "y": 0.9,
                  "yanchor": "top"
                }
              }
            }
          },
          "metadata": {},
          "output_type": "display_data"
        }
      ],
      "source": [
        "# для наглядности построим круговую диаграмму соотношения вакансий исходя из опыта работы\n",
        "\n",
        "fig1 = go.Figure(go.Pie(\n",
        "    values = df4_5['count'],\n",
        "    labels = df4_5['experience']\n",
        "))\n",
        "\n",
        "fig1.update_layout(\n",
        "    title = {\n",
        "        'text': 'Соотношение вакансий по опыту работы',\n",
        "        'y': 0.9,\n",
        "        'x': 0.45,\n",
        "        'xanchor': 'center',\n",
        "        'yanchor': 'top'\n",
        "    },\n",
        "    titlefont = {'size': 20, 'color': 'green'}\n",
        "    )\n",
        "fig1.show()"
      ]
    },
    {
      "cell_type": "markdown",
      "id": "oq2b7n1QpIka",
      "metadata": {
        "id": "oq2b7n1QpIka"
      },
      "source": [
        "***"
      ]
    },
    {
      "cell_type": "markdown",
      "id": "0f9cb9f6",
      "metadata": {},
      "source": [
        "# Выводы по детальному анализу вакансий.\n",
        "1. 12 первых строчек по количеству вакансий, во главе с Москвой (10,8% от всех вакансий), занимают крупнейшие города-миллионники, как России, так и ближнего зарубежья (Минск, Алматы). Вакансии, предлагаемые в этих городах составляют почти половину (48%) от всех вакансий на hh.ru.\n",
        "2. Чуть больше половины (51%) из всех вакансий не имеют информации о заработной плате, что не дает нам полной достоверной информации о зарплатных вилках в вакансиях.\n",
        "3. В оставшихся 49% вакансий среднее значение нижней границы зарплатной вилки составляет 71065 руб., верхней - 110537 руб.\n",
        "4. В подавляющем числе вакансий - 35367 (72% от всех вакансий) работодатели ищут сотрудников на полный рабочий день при полной занятости. Можно отметить также вакансии с удаленной работой при полной занятости, здесь таких вакансий - 7802 (16% от всех вакансий). Остальные сочетания занятости и графика имеют значительно меньше вакансий (12% оставшихся сочетаний в вакансиях)\n",
        "5. Более половины всех вакансий (53,2%) предъявляют к будущим сотрудникам довольно скромный опыт работы - от 1 года до 3 лет. Более опытных сотрудников (от 3 до 6 лет) ищут в 29,5% вакансий. Самых матерых (от 6 лет) ищут всего 2,72%, что заметно ниже даже тех, кто без опыта (14,6% вакансий). Я думаю, это свзано со спецификой и ценностью предлагаемых вакансий для опытных специалистов, а соответственно с редкостью таких должностей. Да и в большинстве случаев такие специалисты учатся, приобретают опыт и продолжают работать, двигаясь по карьерной лестнице внутри предприятия, и соответственно, здесь более востребованы новые молодые не сильно амбициозные специалисты с небольшим опытом или даже без него. \n"
      ]
    },
    {
      "cell_type": "markdown",
      "id": "7ea20ab6-04a7-40a0-adec-443a0e5a42c3",
      "metadata": {
        "id": "7ea20ab6-04a7-40a0-adec-443a0e5a42c3"
      },
      "source": [
        "# Юнит 5. Анализ работодателей"
      ]
    },
    {
      "cell_type": "markdown",
      "id": "968aed80-74ef-4ffb-b5bf-c65b84e9caea",
      "metadata": {
        "id": "968aed80-74ef-4ffb-b5bf-c65b84e9caea"
      },
      "source": [
        "1. Напишите запрос, который позволит узнать, какие работодатели находятся на первом и пятом месте по количеству вакансий."
      ]
    },
    {
      "cell_type": "code",
      "execution_count": 161,
      "id": "f2d62796-d400-4ec1-a675-88112739a50e",
      "metadata": {
        "id": "f2d62796-d400-4ec1-a675-88112739a50e"
      },
      "outputs": [],
      "source": [
        "query_5_1 = f'''\n",
        "(SELECT \n",
        "    e.name,                                     /*столбец name таблицы e*/\n",
        "    COUNT(*)                                    /*подсчёт всех строк*/\n",
        "FROM    \n",
        "    employers e                                 /*из таблицы employers с алиасом e*/                        \n",
        "    JOIN vacancies v ON v.employer_id = e.id    /*оператор соединения таблиц; таблица vacancies с алиасом v; условие: employer_id таблицы v равен id таблицы e*/\n",
        "GROUP BY 1                                      /*группировка по 1-му столбцу*/                 \n",
        "ORDER BY 2 DESC                                 /*сортировка по 2-му столбцу в порядке убывания*/\n",
        "LIMIT 1)                                        /*ограничить вывод одним значением */\n",
        "\n",
        "UNION ALL                                       /*оператор соединения запросов*/\n",
        "\n",
        "(SELECT \n",
        "    e.name,                                     /*столбец name таблицы e*/\n",
        "    COUNT(*)                                    /*подсчёт всех строк*/\n",
        "FROM    \n",
        "    employers e                                 /*из таблицы employers с алиасом e*/                        \n",
        "    JOIN vacancies v ON v.employer_id = e.id    /*оператор соединения таблиц; таблица vacancies с алиасом v; условие: employer_id таблицы v равен id таблицы e*/\n",
        "GROUP BY 1                                      /*группировка по 1-му столбцу*/                 \n",
        "ORDER BY 2 DESC                                 /*сортировка по 2-му столбцу в порядке убывания*/\n",
        "OFFSET 4 LIMIT 1)                               /*исключить первые 4 строки и вывести одну следующую за ними*/\n",
        "'''"
      ]
    },
    {
      "cell_type": "code",
      "execution_count": 162,
      "id": "64tOMkAxqkQk",
      "metadata": {
        "id": "64tOMkAxqkQk"
      },
      "outputs": [
        {
          "name": "stdout",
          "output_type": "stream",
          "text": [
            "Работодатели, находящиеся на первом и пятом месте по количеству вакансий: Яндекс - Газпром нефть\n"
          ]
        }
      ],
      "source": [
        "df5_1 = pd.read_sql_query(query_5_1, connection)\n",
        "print('Работодатели, находящиеся на первом и пятом месте по количеству вакансий:', df5_1['name'][0], \"-\", df5_1['name'][1])"
      ]
    },
    {
      "cell_type": "code",
      "execution_count": 163,
      "id": "5112a089",
      "metadata": {},
      "outputs": [],
      "source": [
        "#сделаем дополнительный запрос и посмотрим кто входит в ТОП-5 компаний по количеству вакансий\n",
        "query_5_1_1 = f'''\n",
        "SELECT \n",
        "    e.name,                                     /*столбец name таблицы e*/\n",
        "    COUNT(*)                                    /*подсчёт всех строк*/\n",
        "FROM    \n",
        "    employers e                                 /*из таблицы employers с алиасом e*/                        \n",
        "    JOIN vacancies v ON v.employer_id = e.id    /*оператор соединения таблиц; таблица vacancies с алиасом v; условие: employer_id таблицы v равен id таблицы e*/\n",
        "GROUP BY 1                                      /*группировка по 1-му столбцу*/                 \n",
        "ORDER BY 2 DESC                                 /*сортировка по 2-му столбцу в порядке убывания*/\n",
        "LIMIT 5                                        /*ограничить вывод 5 значениями */\n",
        "'''"
      ]
    },
    {
      "cell_type": "code",
      "execution_count": 164,
      "id": "e11b8588",
      "metadata": {},
      "outputs": [
        {
          "data": {
            "text/html": [
              "<div>\n",
              "<style scoped>\n",
              "    .dataframe tbody tr th:only-of-type {\n",
              "        vertical-align: middle;\n",
              "    }\n",
              "\n",
              "    .dataframe tbody tr th {\n",
              "        vertical-align: top;\n",
              "    }\n",
              "\n",
              "    .dataframe thead th {\n",
              "        text-align: right;\n",
              "    }\n",
              "</style>\n",
              "<table border=\"1\" class=\"dataframe\">\n",
              "  <thead>\n",
              "    <tr style=\"text-align: right;\">\n",
              "      <th></th>\n",
              "      <th>name</th>\n",
              "      <th>count</th>\n",
              "    </tr>\n",
              "  </thead>\n",
              "  <tbody>\n",
              "    <tr>\n",
              "      <th>0</th>\n",
              "      <td>Яндекс</td>\n",
              "      <td>1933</td>\n",
              "    </tr>\n",
              "    <tr>\n",
              "      <th>1</th>\n",
              "      <td>Ростелеком</td>\n",
              "      <td>491</td>\n",
              "    </tr>\n",
              "    <tr>\n",
              "      <th>2</th>\n",
              "      <td>Тинькофф</td>\n",
              "      <td>444</td>\n",
              "    </tr>\n",
              "    <tr>\n",
              "      <th>3</th>\n",
              "      <td>СБЕР</td>\n",
              "      <td>428</td>\n",
              "    </tr>\n",
              "    <tr>\n",
              "      <th>4</th>\n",
              "      <td>Газпром нефть</td>\n",
              "      <td>331</td>\n",
              "    </tr>\n",
              "  </tbody>\n",
              "</table>\n",
              "</div>"
            ],
            "text/plain": [
              "            name  count\n",
              "0         Яндекс   1933\n",
              "1     Ростелеком    491\n",
              "2       Тинькофф    444\n",
              "3           СБЕР    428\n",
              "4  Газпром нефть    331"
            ]
          },
          "metadata": {},
          "output_type": "display_data"
        }
      ],
      "source": [
        "df5_1_1 = pd.read_sql_query(query_5_1_1, connection)\n",
        "display(df5_1_1)"
      ]
    },
    {
      "cell_type": "markdown",
      "id": "68377cfc-b378-43dc-ab7d-1195abf2c515",
      "metadata": {
        "id": "68377cfc-b378-43dc-ab7d-1195abf2c515"
      },
      "source": [
        "2. Напишите запрос, который для каждого региона выведет количество работодателей и вакансий в нём.\n",
        "Среди регионов, в которых нет вакансий, найдите тот, в котором наибольшее количество работодателей.\n"
      ]
    },
    {
      "cell_type": "code",
      "execution_count": 165,
      "id": "dd7df27a-e3e8-412e-a21a-5d389b71e891",
      "metadata": {
        "id": "dd7df27a-e3e8-412e-a21a-5d389b71e891"
      },
      "outputs": [],
      "source": [
        "query_5_2 = f'''\n",
        "SELECT\n",
        "    a.name Регион,                              /*столбец name таблицы а с алиасом Регион*/\n",
        "    COUNT(DISTINCT e.id) Работодатели,          /*подсчёт строк с уникальным id таблицы e, алиас Работодатели*/\n",
        "    COUNT(DISTINCT v.id) Вакансии               /*подсчёт строк с уникальным id таблицы v, алиас Вакансии*/\n",
        "FROM    \n",
        "    areas a                                     /*из таблицы areas с алиасом a*/\n",
        "    LEFT JOIN vacancies v ON v.area_id = a.id   /*оператор соединения таблиц; таблица vacancies с алиасом v; условие: area_id таблицы v равен id таблицы a*/\n",
        "    LEFT JOIN employers e ON e.area = a.id      /*оператор соединения таблиц; таблица employers с алиасом e; условие: area_id таблицы e равен id таблицы a*/\n",
        "WHERE v.id IS NULL                              /*при условии, что id из таблицы v отсутствует*/                          \n",
        "GROUP BY 1                                      /*группировка по 1-му столбцу*/ \n",
        "ORDER BY 2 DESC                                 /*сортировка по 2-му столбцу в порядке убывания*/\n",
        "'''"
      ]
    },
    {
      "cell_type": "code",
      "execution_count": 166,
      "id": "x1ikWbydrbf6",
      "metadata": {
        "id": "x1ikWbydrbf6"
      },
      "outputs": [
        {
          "data": {
            "text/html": [
              "<div>\n",
              "<style scoped>\n",
              "    .dataframe tbody tr th:only-of-type {\n",
              "        vertical-align: middle;\n",
              "    }\n",
              "\n",
              "    .dataframe tbody tr th {\n",
              "        vertical-align: top;\n",
              "    }\n",
              "\n",
              "    .dataframe thead th {\n",
              "        text-align: right;\n",
              "    }\n",
              "</style>\n",
              "<table border=\"1\" class=\"dataframe\">\n",
              "  <thead>\n",
              "    <tr style=\"text-align: right;\">\n",
              "      <th></th>\n",
              "      <th>Регион</th>\n",
              "      <th>Работодатели</th>\n",
              "      <th>Вакансии</th>\n",
              "    </tr>\n",
              "  </thead>\n",
              "  <tbody>\n",
              "    <tr>\n",
              "      <th>0</th>\n",
              "      <td>Россия</td>\n",
              "      <td>410</td>\n",
              "      <td>0</td>\n",
              "    </tr>\n",
              "    <tr>\n",
              "      <th>1</th>\n",
              "      <td>Казахстан</td>\n",
              "      <td>207</td>\n",
              "      <td>0</td>\n",
              "    </tr>\n",
              "    <tr>\n",
              "      <th>2</th>\n",
              "      <td>Московская область</td>\n",
              "      <td>75</td>\n",
              "      <td>0</td>\n",
              "    </tr>\n",
              "    <tr>\n",
              "      <th>3</th>\n",
              "      <td>Краснодарский край</td>\n",
              "      <td>19</td>\n",
              "      <td>0</td>\n",
              "    </tr>\n",
              "    <tr>\n",
              "      <th>4</th>\n",
              "      <td>Беларусь</td>\n",
              "      <td>18</td>\n",
              "      <td>0</td>\n",
              "    </tr>\n",
              "    <tr>\n",
              "      <th>...</th>\n",
              "      <td>...</td>\n",
              "      <td>...</td>\n",
              "      <td>...</td>\n",
              "    </tr>\n",
              "    <tr>\n",
              "      <th>588</th>\n",
              "      <td>Кувандык</td>\n",
              "      <td>0</td>\n",
              "      <td>0</td>\n",
              "    </tr>\n",
              "    <tr>\n",
              "      <th>589</th>\n",
              "      <td>Куйбышев</td>\n",
              "      <td>0</td>\n",
              "      <td>0</td>\n",
              "    </tr>\n",
              "    <tr>\n",
              "      <th>590</th>\n",
              "      <td>Куйбышево (Ростовская область)</td>\n",
              "      <td>0</td>\n",
              "      <td>0</td>\n",
              "    </tr>\n",
              "    <tr>\n",
              "      <th>591</th>\n",
              "      <td>Култаево</td>\n",
              "      <td>0</td>\n",
              "      <td>0</td>\n",
              "    </tr>\n",
              "    <tr>\n",
              "      <th>592</th>\n",
              "      <td>Кульсары</td>\n",
              "      <td>0</td>\n",
              "      <td>0</td>\n",
              "    </tr>\n",
              "  </tbody>\n",
              "</table>\n",
              "<p>593 rows × 3 columns</p>\n",
              "</div>"
            ],
            "text/plain": [
              "                             Регион  Работодатели  Вакансии\n",
              "0                            Россия           410         0\n",
              "1                         Казахстан           207         0\n",
              "2                Московская область            75         0\n",
              "3                Краснодарский край            19         0\n",
              "4                          Беларусь            18         0\n",
              "..                              ...           ...       ...\n",
              "588                        Кувандык             0         0\n",
              "589                        Куйбышев             0         0\n",
              "590  Куйбышево (Ростовская область)             0         0\n",
              "591                        Култаево             0         0\n",
              "592                        Кульсары             0         0\n",
              "\n",
              "[593 rows x 3 columns]"
            ]
          },
          "metadata": {},
          "output_type": "display_data"
        }
      ],
      "source": [
        "df5_2 = pd.read_sql_query(query_5_2, connection)\n",
        "display(df5_2)"
      ]
    },
    {
      "cell_type": "markdown",
      "id": "f2fe0acb-ab1a-4e15-9326-2560e22d73c1",
      "metadata": {
        "id": "f2fe0acb-ab1a-4e15-9326-2560e22d73c1"
      },
      "source": [
        "3. Для каждого работодателя посчитайте количество регионов, в которых он публикует свои вакансии. Отсортируйте результат по убыванию количества.\n"
      ]
    },
    {
      "cell_type": "code",
      "execution_count": 167,
      "id": "6271f8ad-bd2e-4196-ae4a-5b39c4c1010e",
      "metadata": {
        "id": "6271f8ad-bd2e-4196-ae4a-5b39c4c1010e"
      },
      "outputs": [],
      "source": [
        "query_5_3 = f'''\n",
        "SELECT\n",
        "    e.name Компания,                                /*столбец name таблицы e с алиасом Компания*/\n",
        "    COUNT(DISTINCT v.area_id) \"Кол-во регионов\"     /*подсчёт строк с уникальным area_id таблицы v, алиас Кол-во регионов*/\n",
        "FROM    \n",
        "    vacancies v                                     /*из таблицы vacancies с алиасом v*/\n",
        "    JOIN employers e ON e.id = v.employer_id        /*оператор соединения таблиц; таблица employers с алиасом e; условие: employer_id таблицы v равен id таблицы e*/\n",
        "GROUP BY 1                                          /*группировка по 1-му столбцу*/\n",
        "ORDER BY 2 DESC                                     /*сортировка по 2-му столбцу в порядке убывания*/                             \n",
        "'''"
      ]
    },
    {
      "cell_type": "code",
      "execution_count": 168,
      "id": "1EIvX3HasH4F",
      "metadata": {
        "id": "1EIvX3HasH4F"
      },
      "outputs": [
        {
          "data": {
            "text/html": [
              "<div>\n",
              "<style scoped>\n",
              "    .dataframe tbody tr th:only-of-type {\n",
              "        vertical-align: middle;\n",
              "    }\n",
              "\n",
              "    .dataframe tbody tr th {\n",
              "        vertical-align: top;\n",
              "    }\n",
              "\n",
              "    .dataframe thead th {\n",
              "        text-align: right;\n",
              "    }\n",
              "</style>\n",
              "<table border=\"1\" class=\"dataframe\">\n",
              "  <thead>\n",
              "    <tr style=\"text-align: right;\">\n",
              "      <th></th>\n",
              "      <th>Компания</th>\n",
              "      <th>Кол-во регионов</th>\n",
              "    </tr>\n",
              "  </thead>\n",
              "  <tbody>\n",
              "    <tr>\n",
              "      <th>0</th>\n",
              "      <td>Яндекс</td>\n",
              "      <td>181</td>\n",
              "    </tr>\n",
              "    <tr>\n",
              "      <th>1</th>\n",
              "      <td>Ростелеком</td>\n",
              "      <td>152</td>\n",
              "    </tr>\n",
              "    <tr>\n",
              "      <th>2</th>\n",
              "      <td>Спецремонт</td>\n",
              "      <td>116</td>\n",
              "    </tr>\n",
              "    <tr>\n",
              "      <th>3</th>\n",
              "      <td>Поляков Денис Иванович</td>\n",
              "      <td>88</td>\n",
              "    </tr>\n",
              "    <tr>\n",
              "      <th>4</th>\n",
              "      <td>ООО ЕФИН</td>\n",
              "      <td>71</td>\n",
              "    </tr>\n",
              "    <tr>\n",
              "      <th>...</th>\n",
              "      <td>...</td>\n",
              "      <td>...</td>\n",
              "    </tr>\n",
              "    <tr>\n",
              "      <th>14761</th>\n",
              "      <td>UniSol</td>\n",
              "      <td>1</td>\n",
              "    </tr>\n",
              "    <tr>\n",
              "      <th>14762</th>\n",
              "      <td>UNISTORY LLC</td>\n",
              "      <td>1</td>\n",
              "    </tr>\n",
              "    <tr>\n",
              "      <th>14763</th>\n",
              "      <td>UNIT6</td>\n",
              "      <td>1</td>\n",
              "    </tr>\n",
              "    <tr>\n",
              "      <th>14764</th>\n",
              "      <td>United Distribution</td>\n",
              "      <td>1</td>\n",
              "    </tr>\n",
              "    <tr>\n",
              "      <th>14765</th>\n",
              "      <td>UNITEL LLC</td>\n",
              "      <td>1</td>\n",
              "    </tr>\n",
              "  </tbody>\n",
              "</table>\n",
              "<p>14766 rows × 2 columns</p>\n",
              "</div>"
            ],
            "text/plain": [
              "                     Компания  Кол-во регионов\n",
              "0                      Яндекс              181\n",
              "1                  Ростелеком              152\n",
              "2                  Спецремонт              116\n",
              "3      Поляков Денис Иванович               88\n",
              "4                   ООО ЕФИН                71\n",
              "...                       ...              ...\n",
              "14761                  UniSol                1\n",
              "14762            UNISTORY LLC                1\n",
              "14763                   UNIT6                1\n",
              "14764     United Distribution                1\n",
              "14765              UNITEL LLC                1\n",
              "\n",
              "[14766 rows x 2 columns]"
            ]
          },
          "metadata": {},
          "output_type": "display_data"
        }
      ],
      "source": [
        "df5_3 = pd.read_sql_query(query_5_3, connection)\n",
        "display(df5_3)"
      ]
    },
    {
      "cell_type": "markdown",
      "id": "eab2206d-d95b-468b-8e5f-34381abf0ce7",
      "metadata": {
        "id": "eab2206d-d95b-468b-8e5f-34381abf0ce7"
      },
      "source": [
        "4. Напишите запрос для подсчёта количества работодателей, у которых не указана сфера деятельности. "
      ]
    },
    {
      "cell_type": "code",
      "execution_count": 169,
      "id": "80defb23-bfb1-4a18-8be6-bf36aa7165d5",
      "metadata": {
        "id": "80defb23-bfb1-4a18-8be6-bf36aa7165d5"
      },
      "outputs": [],
      "source": [
        "query_5_4 = f'''\n",
        "SELECT\n",
        "    COUNT(*)                                                        /*подсчёт всех строк*/\n",
        "FROM    \n",
        "    employers e                                                     /*из таблицы employers с алиасом e*/\n",
        "    LEFT JOIN employers_industries ei ON ei.employer_id = e.id      /*оператор соединения таблиц; таблица employers_industries с алиасом ei; условие: employer_id таблицы ei равен id таблицы e*/   \n",
        "WHERE ei.industry_id IS NULL                                        /*при условии, что industry_id из таблицы ei отсутствует*/\n",
        "'''"
      ]
    },
    {
      "cell_type": "code",
      "execution_count": 170,
      "id": "Dp_yCx6ysQSu",
      "metadata": {
        "id": "Dp_yCx6ysQSu"
      },
      "outputs": [
        {
          "name": "stdout",
          "output_type": "stream",
          "text": [
            "Работодатели, у которых не указана сфера деятельности: 8419\n"
          ]
        }
      ],
      "source": [
        "df5_4 = pd.read_sql_query(query_5_4, connection)\n",
        "print('Работодатели, у которых не указана сфера деятельности:', df5_4['count'][0])"
      ]
    },
    {
      "cell_type": "markdown",
      "id": "0112af31-f6b0-4e3b-82ab-71296e752e5e",
      "metadata": {
        "id": "0112af31-f6b0-4e3b-82ab-71296e752e5e"
      },
      "source": [
        "5. Напишите запрос, чтобы узнать название компании, находящейся на третьем месте в алфавитном списке (по названию) компаний, у которых указано четыре сферы деятельности. "
      ]
    },
    {
      "cell_type": "code",
      "execution_count": 171,
      "id": "973b0cfc-a972-470a-8b4a-68744ef220c4",
      "metadata": {
        "id": "973b0cfc-a972-470a-8b4a-68744ef220c4"
      },
      "outputs": [],
      "source": [
        "query_5_5 = f'''\n",
        "SELECT\n",
        "    e.name                                                      /*выбираем значение из столбца name таблицы e*/\n",
        "FROM    \n",
        "    employers e                                                 /*из таблицы employers с алиасом e*/\n",
        "    LEFT JOIN employers_industries ei ON ei.employer_id = e.id  /*оператор соединения таблиц; таблица employers_industries с алиасом ei; условие: employer_id таблицы ei равен id таблицы e*/   \n",
        "GROUP BY 1                                                      /*группировка по 1-му столбцу*/\n",
        "HAVING COUNT(ei.industry_id) = 4                                /*при условии, что кол-во значений industry_id из таблицы ei равно 4*/\n",
        "ORDER BY 1                                                      /*сортировка по 1-му столбцу в порядке возрастания*/\n",
        "OFFSET 2 LIMIT 1                                                /*исключить первые две строки и вывести одну следующую за ними*/\n",
        "'''"
      ]
    },
    {
      "cell_type": "code",
      "execution_count": 172,
      "id": "xsPtpp8EsaED",
      "metadata": {
        "id": "xsPtpp8EsaED"
      },
      "outputs": [
        {
          "name": "stdout",
          "output_type": "stream",
          "text": [
            "Компания, находящаяся на третьем месте в алфавитном списке компаний, у которых указано четыре сферы деятельности: 2ГИС\n"
          ]
        }
      ],
      "source": [
        "df5_5 = pd.read_sql_query(query_5_5, connection)\n",
        "print('Компания, находящаяся на третьем месте в алфавитном списке компаний, у которых указано четыре сферы деятельности:', df5_5['name'][0])"
      ]
    },
    {
      "cell_type": "markdown",
      "id": "3bfcfdaf-755d-4d2b-8ed8-326201dc07ab",
      "metadata": {
        "id": "3bfcfdaf-755d-4d2b-8ed8-326201dc07ab"
      },
      "source": [
        "6. С помощью запроса выясните, у какого количества работодателей в качестве сферы деятельности указана Разработка программного обеспечения.\n"
      ]
    },
    {
      "cell_type": "code",
      "execution_count": 173,
      "id": "ad3f270f-2991-47eb-929b-e8f88a55b0d1",
      "metadata": {
        "id": "ad3f270f-2991-47eb-929b-e8f88a55b0d1"
      },
      "outputs": [],
      "source": [
        "query_5_6 = f'''\n",
        "SELECT\n",
        "    COUNT(ei.employer_id)                               /*подсчёт значений employer_id таблицы ei*/                 \n",
        "FROM    \n",
        "    employers_industries ei                             /*из таблицы employers_industries с алиасом ei*/\n",
        "    JOIN industries i ON ei.industry_id = i.id          /*оператор соединения таблиц; таблица industries с алиасом i; условие: industry_id таблицы ei равен id таблицы i*/ \n",
        "WHERE i.name = 'Разработка программного обеспечения'    /*при условии, что значение name из таблицы i равно 'Разработка программного обеспечения'*/\n",
        "'''"
      ]
    },
    {
      "cell_type": "code",
      "execution_count": 174,
      "id": "H72qxWM0shPR",
      "metadata": {
        "id": "H72qxWM0shPR"
      },
      "outputs": [
        {
          "name": "stdout",
          "output_type": "stream",
          "text": [
            "Количество работодателей, у которых в качестве сферы деятельности указана Разработка программного обеспечения: 3553\n"
          ]
        }
      ],
      "source": [
        "df5_6 = pd.read_sql_query(query_5_6, connection)\n",
        "print('Количество работодателей, у которых в качестве сферы деятельности указана Разработка программного обеспечения:', df5_6['count'][0])"
      ]
    },
    {
      "cell_type": "markdown",
      "id": "7b02bb86-0546-40fb-94a4-242f050a5c57",
      "metadata": {
        "id": "7b02bb86-0546-40fb-94a4-242f050a5c57"
      },
      "source": [
        "7. Для компании «Яндекс» выведите список регионов-миллионников, в которых представлены вакансии компании, вместе с количеством вакансий в этих регионах. Также добавьте строку Total с общим количеством вакансий компании. Результат отсортируйте по возрастанию количества.\n",
        "\n",
        "Список городов-милионников надо взять [отсюда](https://ru.wikipedia.org/wiki/%D0%93%D0%BE%D1%80%D0%BE%D0%B4%D0%B0-%D0%BC%D0%B8%D0%BB%D0%BB%D0%B8%D0%BE%D0%BD%D0%B5%D1%80%D1%8B_%D0%A0%D0%BE%D1%81%D1%81%D0%B8%D0%B8). \n",
        "\n",
        "Если возникнут трудности с этим задание посмотрите материалы модуля  PYTHON-17. Как получать данные из веб-источников и API. "
      ]
    },
    {
      "cell_type": "code",
      "execution_count": 175,
      "id": "ZdfrL6gIs1Pn",
      "metadata": {
        "id": "ZdfrL6gIs1Pn"
      },
      "outputs": [],
      "source": [
        "# впеременной сохраняем ссылку на Список городов-милионников\n",
        "url = \"https://ru.wikipedia.org/wiki/%D0%93%D0%BE%D1%80%D0%BE%D0%B4%D0%B0-%D0%BC%D0%B8%D0%BB%D0%BB%D0%B8%D0%BE%D0%BD%D0%B5%D1%80%D1%8B_%D0%A0%D0%BE%D1%81%D1%81%D0%B8%D0%B8\"\n",
        "# считаем список из 2 колонки 'Город', заменим \"Воронеж[a]\" на Воронеж\" и поместим список в кортеж\n",
        "cities_1e6 = tuple(pd.read_html(url)[1].Город.replace(\"Воронеж[a]\",\"Воронеж\"))"
      ]
    },
    {
      "cell_type": "code",
      "execution_count": 176,
      "id": "5a0e32a4-e68a-4365-8a39-2fe24c542c36",
      "metadata": {
        "id": "5a0e32a4-e68a-4365-8a39-2fe24c542c36"
      },
      "outputs": [],
      "source": [
        "query_5_7 = f'''\n",
        "SELECT\n",
        "    a.name \"Города-миллионники\",                /*столбец name таблицы а*/                    \n",
        "    COUNT(v.id) \"Вакансии компании Яндекс\"      /*подсчёт значений id таблицы v*/\n",
        "FROM vacancies v                                /*из таблицы vacancies с алиасом v*/\n",
        "    JOIN areas a ON a.id = v.area_id            /*оператор соединения таблиц; таблица areas с алиасом а; условие: id таблицы a равен area_id таблицы v*/ \n",
        "    JOIN employers e ON e.id = v.employer_id    /*оператор соединения таблиц; таблица employers с алиасом e; условие: id таблицы a равен employer_id таблицы v*/ \n",
        "WHERE a.name in {cities_1e6}                    /*при условии, что значение name из таблицы a есть в кортеже cities_1e6*/\n",
        "    AND e.name = 'Яндекс'                       /*и значение name таблицы е равно \"Яндекс\"*/\n",
        "GROUP BY 1                                      /*группировка по 1 столбцу*/\n",
        "\n",
        "UNION ALL                                       /*оператор соединения запросов*/\n",
        "\n",
        "SELECT\n",
        "    'Total',                                    /*создаем столбец 'Total'*/\n",
        "    COUNT(*)                                    /*подсчёт всех строк*/\n",
        "FROM vacancies v                                /*из таблицы vacancies с алиасом v*/\n",
        "    JOIN areas a ON a.id = v.area_id            /*оператор соединения таблиц; таблица areas с алиасом а; условие: id таблицы a равен area_id таблицы v*/ \n",
        "    JOIN employers e ON e.id = v.employer_id    /*оператор соединения таблиц; таблица employers с алиасом e; условие: id таблицы a равен employer_id таблицы v*/\n",
        "WHERE a.name in {cities_1e6}                    /*при условии, что значение name из таблицы a есть в кортеже cities_1e6*/\n",
        "    AND e.name = 'Яндекс'                       /*и значение name таблицы е равно \"Яндекс\"*/\n",
        "\n",
        "ORDER BY 2                                      /*сортировка по 2 столбцу в порядке возрастания*/\n",
        "'''"
      ]
    },
    {
      "cell_type": "code",
      "execution_count": 177,
      "id": "ttPhiO1rsvPq",
      "metadata": {
        "id": "ttPhiO1rsvPq"
      },
      "outputs": [
        {
          "data": {
            "text/html": [
              "<div>\n",
              "<style scoped>\n",
              "    .dataframe tbody tr th:only-of-type {\n",
              "        vertical-align: middle;\n",
              "    }\n",
              "\n",
              "    .dataframe tbody tr th {\n",
              "        vertical-align: top;\n",
              "    }\n",
              "\n",
              "    .dataframe thead th {\n",
              "        text-align: right;\n",
              "    }\n",
              "</style>\n",
              "<table border=\"1\" class=\"dataframe\">\n",
              "  <thead>\n",
              "    <tr style=\"text-align: right;\">\n",
              "      <th></th>\n",
              "      <th>Города-миллионники</th>\n",
              "      <th>Вакансии компании Яндекс</th>\n",
              "    </tr>\n",
              "  </thead>\n",
              "  <tbody>\n",
              "    <tr>\n",
              "      <th>0</th>\n",
              "      <td>Омск</td>\n",
              "      <td>21</td>\n",
              "    </tr>\n",
              "    <tr>\n",
              "      <th>1</th>\n",
              "      <td>Челябинск</td>\n",
              "      <td>22</td>\n",
              "    </tr>\n",
              "    <tr>\n",
              "      <th>2</th>\n",
              "      <td>Красноярск</td>\n",
              "      <td>23</td>\n",
              "    </tr>\n",
              "    <tr>\n",
              "      <th>3</th>\n",
              "      <td>Волгоград</td>\n",
              "      <td>24</td>\n",
              "    </tr>\n",
              "    <tr>\n",
              "      <th>4</th>\n",
              "      <td>Пермь</td>\n",
              "      <td>25</td>\n",
              "    </tr>\n",
              "    <tr>\n",
              "      <th>5</th>\n",
              "      <td>Казань</td>\n",
              "      <td>25</td>\n",
              "    </tr>\n",
              "    <tr>\n",
              "      <th>6</th>\n",
              "      <td>Ростов-на-Дону</td>\n",
              "      <td>25</td>\n",
              "    </tr>\n",
              "    <tr>\n",
              "      <th>7</th>\n",
              "      <td>Уфа</td>\n",
              "      <td>26</td>\n",
              "    </tr>\n",
              "    <tr>\n",
              "      <th>8</th>\n",
              "      <td>Самара</td>\n",
              "      <td>26</td>\n",
              "    </tr>\n",
              "    <tr>\n",
              "      <th>9</th>\n",
              "      <td>Краснодар</td>\n",
              "      <td>30</td>\n",
              "    </tr>\n",
              "    <tr>\n",
              "      <th>10</th>\n",
              "      <td>Воронеж</td>\n",
              "      <td>32</td>\n",
              "    </tr>\n",
              "    <tr>\n",
              "      <th>11</th>\n",
              "      <td>Новосибирск</td>\n",
              "      <td>35</td>\n",
              "    </tr>\n",
              "    <tr>\n",
              "      <th>12</th>\n",
              "      <td>Нижний Новгород</td>\n",
              "      <td>36</td>\n",
              "    </tr>\n",
              "    <tr>\n",
              "      <th>13</th>\n",
              "      <td>Екатеринбург</td>\n",
              "      <td>39</td>\n",
              "    </tr>\n",
              "    <tr>\n",
              "      <th>14</th>\n",
              "      <td>Санкт-Петербург</td>\n",
              "      <td>42</td>\n",
              "    </tr>\n",
              "    <tr>\n",
              "      <th>15</th>\n",
              "      <td>Москва</td>\n",
              "      <td>54</td>\n",
              "    </tr>\n",
              "    <tr>\n",
              "      <th>16</th>\n",
              "      <td>Total</td>\n",
              "      <td>485</td>\n",
              "    </tr>\n",
              "  </tbody>\n",
              "</table>\n",
              "</div>"
            ],
            "text/plain": [
              "   Города-миллионники  Вакансии компании Яндекс\n",
              "0                Омск                        21\n",
              "1           Челябинск                        22\n",
              "2          Красноярск                        23\n",
              "3           Волгоград                        24\n",
              "4               Пермь                        25\n",
              "5              Казань                        25\n",
              "6      Ростов-на-Дону                        25\n",
              "7                 Уфа                        26\n",
              "8              Самара                        26\n",
              "9           Краснодар                        30\n",
              "10            Воронеж                        32\n",
              "11        Новосибирск                        35\n",
              "12    Нижний Новгород                        36\n",
              "13       Екатеринбург                        39\n",
              "14    Санкт-Петербург                        42\n",
              "15             Москва                        54\n",
              "16              Total                       485"
            ]
          },
          "metadata": {},
          "output_type": "display_data"
        }
      ],
      "source": [
        "df5_7 = pd.read_sql_query(query_5_7, connection)\n",
        "display(df5_7)"
      ]
    },
    {
      "cell_type": "code",
      "execution_count": 178,
      "id": "53dfaf9b",
      "metadata": {},
      "outputs": [],
      "source": [
        "# сделаем дополнительный запрос для построения диаграммы распределения вакансий компании \"Яндекс\" по регионам,\n",
        "# где будем рассматривоть города-миллионники, объединенные в группу \"Города-миллионники\"\n",
        "# и остальные регионы, объединенные в группу \"Другие\"\n",
        "\n",
        "query_5_7_1 = f'''\n",
        "SELECT\n",
        "    'Другие' Регионы,                        \n",
        "    COUNT(v.id) \"Кол-во\"\n",
        "FROM vacancies v\n",
        "    JOIN areas a ON a.id = v.area_id\n",
        "    JOIN employers e ON e.id = v.employer_id\n",
        "WHERE a.name NOT IN {cities_1e6} \n",
        "    AND e.name = 'Яндекс'\n",
        "GROUP BY 1\n",
        "\n",
        "UNION ALL\n",
        "\n",
        "SELECT\n",
        "    'Города-миллионники',\n",
        "    COUNT(*)\n",
        "FROM\n",
        "    vacancies v\n",
        "    JOIN areas a ON a.id = v.area_id\n",
        "    JOIN employers e ON e.id = v.employer_id\n",
        "WHERE a.name IN {cities_1e6} \n",
        "    AND e.name = 'Яндекс'\n",
        "\n",
        "ORDER BY 2\n",
        "'''"
      ]
    },
    {
      "cell_type": "code",
      "execution_count": 179,
      "id": "7baafc79",
      "metadata": {},
      "outputs": [
        {
          "data": {
            "application/vnd.plotly.v1+json": {
              "config": {
                "plotlyServerURL": "https://plot.ly"
              },
              "data": [
                {
                  "labels": [
                    "Города-миллионники",
                    "Другие"
                  ],
                  "type": "pie",
                  "values": [
                    485,
                    1448
                  ]
                }
              ],
              "layout": {
                "template": {
                  "data": {
                    "bar": [
                      {
                        "error_x": {
                          "color": "#2a3f5f"
                        },
                        "error_y": {
                          "color": "#2a3f5f"
                        },
                        "marker": {
                          "line": {
                            "color": "#E5ECF6",
                            "width": 0.5
                          },
                          "pattern": {
                            "fillmode": "overlay",
                            "size": 10,
                            "solidity": 0.2
                          }
                        },
                        "type": "bar"
                      }
                    ],
                    "barpolar": [
                      {
                        "marker": {
                          "line": {
                            "color": "#E5ECF6",
                            "width": 0.5
                          },
                          "pattern": {
                            "fillmode": "overlay",
                            "size": 10,
                            "solidity": 0.2
                          }
                        },
                        "type": "barpolar"
                      }
                    ],
                    "carpet": [
                      {
                        "aaxis": {
                          "endlinecolor": "#2a3f5f",
                          "gridcolor": "white",
                          "linecolor": "white",
                          "minorgridcolor": "white",
                          "startlinecolor": "#2a3f5f"
                        },
                        "baxis": {
                          "endlinecolor": "#2a3f5f",
                          "gridcolor": "white",
                          "linecolor": "white",
                          "minorgridcolor": "white",
                          "startlinecolor": "#2a3f5f"
                        },
                        "type": "carpet"
                      }
                    ],
                    "choropleth": [
                      {
                        "colorbar": {
                          "outlinewidth": 0,
                          "ticks": ""
                        },
                        "type": "choropleth"
                      }
                    ],
                    "contour": [
                      {
                        "colorbar": {
                          "outlinewidth": 0,
                          "ticks": ""
                        },
                        "colorscale": [
                          [
                            0,
                            "#0d0887"
                          ],
                          [
                            0.1111111111111111,
                            "#46039f"
                          ],
                          [
                            0.2222222222222222,
                            "#7201a8"
                          ],
                          [
                            0.3333333333333333,
                            "#9c179e"
                          ],
                          [
                            0.4444444444444444,
                            "#bd3786"
                          ],
                          [
                            0.5555555555555556,
                            "#d8576b"
                          ],
                          [
                            0.6666666666666666,
                            "#ed7953"
                          ],
                          [
                            0.7777777777777778,
                            "#fb9f3a"
                          ],
                          [
                            0.8888888888888888,
                            "#fdca26"
                          ],
                          [
                            1,
                            "#f0f921"
                          ]
                        ],
                        "type": "contour"
                      }
                    ],
                    "contourcarpet": [
                      {
                        "colorbar": {
                          "outlinewidth": 0,
                          "ticks": ""
                        },
                        "type": "contourcarpet"
                      }
                    ],
                    "heatmap": [
                      {
                        "colorbar": {
                          "outlinewidth": 0,
                          "ticks": ""
                        },
                        "colorscale": [
                          [
                            0,
                            "#0d0887"
                          ],
                          [
                            0.1111111111111111,
                            "#46039f"
                          ],
                          [
                            0.2222222222222222,
                            "#7201a8"
                          ],
                          [
                            0.3333333333333333,
                            "#9c179e"
                          ],
                          [
                            0.4444444444444444,
                            "#bd3786"
                          ],
                          [
                            0.5555555555555556,
                            "#d8576b"
                          ],
                          [
                            0.6666666666666666,
                            "#ed7953"
                          ],
                          [
                            0.7777777777777778,
                            "#fb9f3a"
                          ],
                          [
                            0.8888888888888888,
                            "#fdca26"
                          ],
                          [
                            1,
                            "#f0f921"
                          ]
                        ],
                        "type": "heatmap"
                      }
                    ],
                    "heatmapgl": [
                      {
                        "colorbar": {
                          "outlinewidth": 0,
                          "ticks": ""
                        },
                        "colorscale": [
                          [
                            0,
                            "#0d0887"
                          ],
                          [
                            0.1111111111111111,
                            "#46039f"
                          ],
                          [
                            0.2222222222222222,
                            "#7201a8"
                          ],
                          [
                            0.3333333333333333,
                            "#9c179e"
                          ],
                          [
                            0.4444444444444444,
                            "#bd3786"
                          ],
                          [
                            0.5555555555555556,
                            "#d8576b"
                          ],
                          [
                            0.6666666666666666,
                            "#ed7953"
                          ],
                          [
                            0.7777777777777778,
                            "#fb9f3a"
                          ],
                          [
                            0.8888888888888888,
                            "#fdca26"
                          ],
                          [
                            1,
                            "#f0f921"
                          ]
                        ],
                        "type": "heatmapgl"
                      }
                    ],
                    "histogram": [
                      {
                        "marker": {
                          "pattern": {
                            "fillmode": "overlay",
                            "size": 10,
                            "solidity": 0.2
                          }
                        },
                        "type": "histogram"
                      }
                    ],
                    "histogram2d": [
                      {
                        "colorbar": {
                          "outlinewidth": 0,
                          "ticks": ""
                        },
                        "colorscale": [
                          [
                            0,
                            "#0d0887"
                          ],
                          [
                            0.1111111111111111,
                            "#46039f"
                          ],
                          [
                            0.2222222222222222,
                            "#7201a8"
                          ],
                          [
                            0.3333333333333333,
                            "#9c179e"
                          ],
                          [
                            0.4444444444444444,
                            "#bd3786"
                          ],
                          [
                            0.5555555555555556,
                            "#d8576b"
                          ],
                          [
                            0.6666666666666666,
                            "#ed7953"
                          ],
                          [
                            0.7777777777777778,
                            "#fb9f3a"
                          ],
                          [
                            0.8888888888888888,
                            "#fdca26"
                          ],
                          [
                            1,
                            "#f0f921"
                          ]
                        ],
                        "type": "histogram2d"
                      }
                    ],
                    "histogram2dcontour": [
                      {
                        "colorbar": {
                          "outlinewidth": 0,
                          "ticks": ""
                        },
                        "colorscale": [
                          [
                            0,
                            "#0d0887"
                          ],
                          [
                            0.1111111111111111,
                            "#46039f"
                          ],
                          [
                            0.2222222222222222,
                            "#7201a8"
                          ],
                          [
                            0.3333333333333333,
                            "#9c179e"
                          ],
                          [
                            0.4444444444444444,
                            "#bd3786"
                          ],
                          [
                            0.5555555555555556,
                            "#d8576b"
                          ],
                          [
                            0.6666666666666666,
                            "#ed7953"
                          ],
                          [
                            0.7777777777777778,
                            "#fb9f3a"
                          ],
                          [
                            0.8888888888888888,
                            "#fdca26"
                          ],
                          [
                            1,
                            "#f0f921"
                          ]
                        ],
                        "type": "histogram2dcontour"
                      }
                    ],
                    "mesh3d": [
                      {
                        "colorbar": {
                          "outlinewidth": 0,
                          "ticks": ""
                        },
                        "type": "mesh3d"
                      }
                    ],
                    "parcoords": [
                      {
                        "line": {
                          "colorbar": {
                            "outlinewidth": 0,
                            "ticks": ""
                          }
                        },
                        "type": "parcoords"
                      }
                    ],
                    "pie": [
                      {
                        "automargin": true,
                        "type": "pie"
                      }
                    ],
                    "scatter": [
                      {
                        "fillpattern": {
                          "fillmode": "overlay",
                          "size": 10,
                          "solidity": 0.2
                        },
                        "type": "scatter"
                      }
                    ],
                    "scatter3d": [
                      {
                        "line": {
                          "colorbar": {
                            "outlinewidth": 0,
                            "ticks": ""
                          }
                        },
                        "marker": {
                          "colorbar": {
                            "outlinewidth": 0,
                            "ticks": ""
                          }
                        },
                        "type": "scatter3d"
                      }
                    ],
                    "scattercarpet": [
                      {
                        "marker": {
                          "colorbar": {
                            "outlinewidth": 0,
                            "ticks": ""
                          }
                        },
                        "type": "scattercarpet"
                      }
                    ],
                    "scattergeo": [
                      {
                        "marker": {
                          "colorbar": {
                            "outlinewidth": 0,
                            "ticks": ""
                          }
                        },
                        "type": "scattergeo"
                      }
                    ],
                    "scattergl": [
                      {
                        "marker": {
                          "colorbar": {
                            "outlinewidth": 0,
                            "ticks": ""
                          }
                        },
                        "type": "scattergl"
                      }
                    ],
                    "scattermapbox": [
                      {
                        "marker": {
                          "colorbar": {
                            "outlinewidth": 0,
                            "ticks": ""
                          }
                        },
                        "type": "scattermapbox"
                      }
                    ],
                    "scatterpolar": [
                      {
                        "marker": {
                          "colorbar": {
                            "outlinewidth": 0,
                            "ticks": ""
                          }
                        },
                        "type": "scatterpolar"
                      }
                    ],
                    "scatterpolargl": [
                      {
                        "marker": {
                          "colorbar": {
                            "outlinewidth": 0,
                            "ticks": ""
                          }
                        },
                        "type": "scatterpolargl"
                      }
                    ],
                    "scatterternary": [
                      {
                        "marker": {
                          "colorbar": {
                            "outlinewidth": 0,
                            "ticks": ""
                          }
                        },
                        "type": "scatterternary"
                      }
                    ],
                    "surface": [
                      {
                        "colorbar": {
                          "outlinewidth": 0,
                          "ticks": ""
                        },
                        "colorscale": [
                          [
                            0,
                            "#0d0887"
                          ],
                          [
                            0.1111111111111111,
                            "#46039f"
                          ],
                          [
                            0.2222222222222222,
                            "#7201a8"
                          ],
                          [
                            0.3333333333333333,
                            "#9c179e"
                          ],
                          [
                            0.4444444444444444,
                            "#bd3786"
                          ],
                          [
                            0.5555555555555556,
                            "#d8576b"
                          ],
                          [
                            0.6666666666666666,
                            "#ed7953"
                          ],
                          [
                            0.7777777777777778,
                            "#fb9f3a"
                          ],
                          [
                            0.8888888888888888,
                            "#fdca26"
                          ],
                          [
                            1,
                            "#f0f921"
                          ]
                        ],
                        "type": "surface"
                      }
                    ],
                    "table": [
                      {
                        "cells": {
                          "fill": {
                            "color": "#EBF0F8"
                          },
                          "line": {
                            "color": "white"
                          }
                        },
                        "header": {
                          "fill": {
                            "color": "#C8D4E3"
                          },
                          "line": {
                            "color": "white"
                          }
                        },
                        "type": "table"
                      }
                    ]
                  },
                  "layout": {
                    "annotationdefaults": {
                      "arrowcolor": "#2a3f5f",
                      "arrowhead": 0,
                      "arrowwidth": 1
                    },
                    "autotypenumbers": "strict",
                    "coloraxis": {
                      "colorbar": {
                        "outlinewidth": 0,
                        "ticks": ""
                      }
                    },
                    "colorscale": {
                      "diverging": [
                        [
                          0,
                          "#8e0152"
                        ],
                        [
                          0.1,
                          "#c51b7d"
                        ],
                        [
                          0.2,
                          "#de77ae"
                        ],
                        [
                          0.3,
                          "#f1b6da"
                        ],
                        [
                          0.4,
                          "#fde0ef"
                        ],
                        [
                          0.5,
                          "#f7f7f7"
                        ],
                        [
                          0.6,
                          "#e6f5d0"
                        ],
                        [
                          0.7,
                          "#b8e186"
                        ],
                        [
                          0.8,
                          "#7fbc41"
                        ],
                        [
                          0.9,
                          "#4d9221"
                        ],
                        [
                          1,
                          "#276419"
                        ]
                      ],
                      "sequential": [
                        [
                          0,
                          "#0d0887"
                        ],
                        [
                          0.1111111111111111,
                          "#46039f"
                        ],
                        [
                          0.2222222222222222,
                          "#7201a8"
                        ],
                        [
                          0.3333333333333333,
                          "#9c179e"
                        ],
                        [
                          0.4444444444444444,
                          "#bd3786"
                        ],
                        [
                          0.5555555555555556,
                          "#d8576b"
                        ],
                        [
                          0.6666666666666666,
                          "#ed7953"
                        ],
                        [
                          0.7777777777777778,
                          "#fb9f3a"
                        ],
                        [
                          0.8888888888888888,
                          "#fdca26"
                        ],
                        [
                          1,
                          "#f0f921"
                        ]
                      ],
                      "sequentialminus": [
                        [
                          0,
                          "#0d0887"
                        ],
                        [
                          0.1111111111111111,
                          "#46039f"
                        ],
                        [
                          0.2222222222222222,
                          "#7201a8"
                        ],
                        [
                          0.3333333333333333,
                          "#9c179e"
                        ],
                        [
                          0.4444444444444444,
                          "#bd3786"
                        ],
                        [
                          0.5555555555555556,
                          "#d8576b"
                        ],
                        [
                          0.6666666666666666,
                          "#ed7953"
                        ],
                        [
                          0.7777777777777778,
                          "#fb9f3a"
                        ],
                        [
                          0.8888888888888888,
                          "#fdca26"
                        ],
                        [
                          1,
                          "#f0f921"
                        ]
                      ]
                    },
                    "colorway": [
                      "#636efa",
                      "#EF553B",
                      "#00cc96",
                      "#ab63fa",
                      "#FFA15A",
                      "#19d3f3",
                      "#FF6692",
                      "#B6E880",
                      "#FF97FF",
                      "#FECB52"
                    ],
                    "font": {
                      "color": "#2a3f5f"
                    },
                    "geo": {
                      "bgcolor": "white",
                      "lakecolor": "white",
                      "landcolor": "#E5ECF6",
                      "showlakes": true,
                      "showland": true,
                      "subunitcolor": "white"
                    },
                    "hoverlabel": {
                      "align": "left"
                    },
                    "hovermode": "closest",
                    "mapbox": {
                      "style": "light"
                    },
                    "paper_bgcolor": "white",
                    "plot_bgcolor": "#E5ECF6",
                    "polar": {
                      "angularaxis": {
                        "gridcolor": "white",
                        "linecolor": "white",
                        "ticks": ""
                      },
                      "bgcolor": "#E5ECF6",
                      "radialaxis": {
                        "gridcolor": "white",
                        "linecolor": "white",
                        "ticks": ""
                      }
                    },
                    "scene": {
                      "xaxis": {
                        "backgroundcolor": "#E5ECF6",
                        "gridcolor": "white",
                        "gridwidth": 2,
                        "linecolor": "white",
                        "showbackground": true,
                        "ticks": "",
                        "zerolinecolor": "white"
                      },
                      "yaxis": {
                        "backgroundcolor": "#E5ECF6",
                        "gridcolor": "white",
                        "gridwidth": 2,
                        "linecolor": "white",
                        "showbackground": true,
                        "ticks": "",
                        "zerolinecolor": "white"
                      },
                      "zaxis": {
                        "backgroundcolor": "#E5ECF6",
                        "gridcolor": "white",
                        "gridwidth": 2,
                        "linecolor": "white",
                        "showbackground": true,
                        "ticks": "",
                        "zerolinecolor": "white"
                      }
                    },
                    "shapedefaults": {
                      "line": {
                        "color": "#2a3f5f"
                      }
                    },
                    "ternary": {
                      "aaxis": {
                        "gridcolor": "white",
                        "linecolor": "white",
                        "ticks": ""
                      },
                      "baxis": {
                        "gridcolor": "white",
                        "linecolor": "white",
                        "ticks": ""
                      },
                      "bgcolor": "#E5ECF6",
                      "caxis": {
                        "gridcolor": "white",
                        "linecolor": "white",
                        "ticks": ""
                      }
                    },
                    "title": {
                      "x": 0.05
                    },
                    "xaxis": {
                      "automargin": true,
                      "gridcolor": "white",
                      "linecolor": "white",
                      "ticks": "",
                      "title": {
                        "standoff": 15
                      },
                      "zerolinecolor": "white",
                      "zerolinewidth": 2
                    },
                    "yaxis": {
                      "automargin": true,
                      "gridcolor": "white",
                      "linecolor": "white",
                      "ticks": "",
                      "title": {
                        "standoff": 15
                      },
                      "zerolinecolor": "white",
                      "zerolinewidth": 2
                    }
                  }
                },
                "title": {
                  "font": {
                    "color": "green",
                    "size": 20
                  },
                  "text": "Соотношение вакансий компании \"Яндекс\" по регионам",
                  "x": 0.45,
                  "xanchor": "center",
                  "y": 0.9,
                  "yanchor": "top"
                }
              }
            }
          },
          "metadata": {},
          "output_type": "display_data"
        }
      ],
      "source": [
        "df5_7_1 = pd.read_sql_query(query_5_7_1, connection)\n",
        "\n",
        "fig = go.Figure(go.Pie(\n",
        "    values = df5_7_1['Кол-во'],\n",
        "    labels = df5_7_1['Регионы']\n",
        "))\n",
        "\n",
        "fig.update_layout(\n",
        "    title = {\n",
        "        'text': 'Соотношение вакансий компании \"Яндекс\" по регионам',\n",
        "        'y': 0.9,\n",
        "        'x': 0.45,\n",
        "        'xanchor': 'center',\n",
        "        'yanchor': 'top'\n",
        "    },\n",
        "    titlefont = {'size': 20, 'color': 'green'}\n",
        "    )\n",
        "fig.show()"
      ]
    },
    {
      "cell_type": "markdown",
      "id": "04966e40-3bc3-4dc8-9ba2-e80580ce3abc",
      "metadata": {
        "id": "04966e40-3bc3-4dc8-9ba2-e80580ce3abc"
      },
      "source": [
        "***"
      ]
    },
    {
      "cell_type": "markdown",
      "id": "6bda10b3",
      "metadata": {},
      "source": [
        "# Выводы по анализу работодателей.\n",
        "1. Первую строчку по количеству вакансий, занимает компания \"Яндекс\". Замыкает пятерку лидеров по количеству вакансий компания \"Газпром нефть\" с вакансиями в 6 раз меньше, чем у лидера. Работодатели, находящиеся между этими монстрами рынка труда и занявшие со 2-го по 4-места: \"Ростелеком\", \"Тинькофф\", \"СБЕР\".\n",
        "2. Анализ показал, что некоторые работодатели, указывая регион регистрации \"Россия\" в справочнике работодателей, скорее всего, уже непосредственно в вакансиях указывают более конкретные регионы, так как в базе существует 410 работодателей с таким регионом регистрации при отсутствии размещенных в нем вакансий. \n",
        "3. По количеству регионов, в которых размещены вакансии различных компаний, \"Яндекс\" занимает первую строчку со 181 регионом.\n",
        "4. Странно, но факт, что шестая часть работодателей не указывает у себя в справочнике ни одну из сфер деятельности. \n",
        "5. Компания \"2ГИС\" указала у себя в профиле 4 различные сферы деятельности, как и ещё 1137 компаний.\n",
        "6. 3553 работодателей указали у себя в профиле сферу деятельности \"Разработка программного обеспечения\", что составляет 15% из всех работодателей.\n",
        "7. 485 вакансий компании \"Яндекс\" представлены в 16 городах-миллионниках нашей страны, что составляет 25,1% из всех вакансий компании \"Яндекс\""
      ]
    },
    {
      "cell_type": "markdown",
      "id": "b1ef156a-efcb-49ce-bb23-90763e7f35b2",
      "metadata": {
        "id": "b1ef156a-efcb-49ce-bb23-90763e7f35b2",
        "tags": []
      },
      "source": [
        "# Юнит 6. Предметный анализ"
      ]
    },
    {
      "cell_type": "markdown",
      "id": "b9cd50a0-992d-4988-8463-2b2b1c4629b4",
      "metadata": {
        "id": "b9cd50a0-992d-4988-8463-2b2b1c4629b4"
      },
      "source": [
        "1. Сколько вакансий имеет отношение к данным?\n",
        "\n",
        "Считаем, что вакансия имеет отношение к данным, если в её названии содержатся слова 'data' или 'данн'.\n",
        "\n",
        "*Подсказка: Обратите внимание, что названия вакансий могут быть написаны в любом регистре.* \n"
      ]
    },
    {
      "cell_type": "code",
      "execution_count": 180,
      "id": "54ab0e50-c0f1-47cc-a54b-bc5c8bc363f9",
      "metadata": {
        "id": "54ab0e50-c0f1-47cc-a54b-bc5c8bc363f9"
      },
      "outputs": [],
      "source": [
        "query_6_1 = f'''\n",
        "SELECT\n",
        "    COUNT(*)\n",
        "FROM vacancies\n",
        "WHERE name ILIKE '%data%' OR name ILIKE '%данн%'\n",
        "'''"
      ]
    },
    {
      "cell_type": "code",
      "execution_count": 181,
      "id": "9F1meAqsuUjd",
      "metadata": {
        "id": "9F1meAqsuUjd"
      },
      "outputs": [
        {
          "name": "stdout",
          "output_type": "stream",
          "text": [
            "Вакансий, имеющих отношение к данным: 1771\n"
          ]
        }
      ],
      "source": [
        "df6_1 = pd.read_sql_query(query_6_1, connection)\n",
        "print('Вакансий, имеющих отношение к данным:', df6_1['count'][0])"
      ]
    },
    {
      "cell_type": "markdown",
      "id": "4dea20cb-a36b-474a-a0b9-e08e8e3857a5",
      "metadata": {
        "id": "4dea20cb-a36b-474a-a0b9-e08e8e3857a5"
      },
      "source": [
        "2. Сколько есть подходящих вакансий для начинающего дата-сайентиста? \n",
        "Будем считать вакансиями для дата-сайентистов такие, в названии которых есть хотя бы одно из следующих сочетаний:\n",
        "* 'data scientist'\n",
        "* 'data science'\n",
        "* 'исследователь данных'\n",
        "* 'ML' (здесь не нужно брать вакансии по HTML)\n",
        "* 'machine learning'\n",
        "* 'машинн%обучен%'\n",
        "\n",
        "** В следующих заданиях мы продолжим работать с вакансиями по этому условию.*\n",
        "\n",
        "Считаем вакансиями для специалистов уровня Junior следующие:\n",
        "* в названии есть слово 'junior' *или*\n",
        "* требуемый опыт — Нет опыта *или*\n",
        "* тип трудоустройства — Стажировка.\n",
        " "
      ]
    },
    {
      "cell_type": "code",
      "execution_count": 182,
      "id": "9c61b3c0-bb66-46c9-ae1e-81d3f5752b4a",
      "metadata": {
        "id": "9c61b3c0-bb66-46c9-ae1e-81d3f5752b4a"
      },
      "outputs": [],
      "source": [
        "query_6_2 = f'''\n",
        "SELECT COUNT(*)\n",
        "FROM vacancies\n",
        "WHERE \n",
        "    (name ILIKE '%data scientist%' \n",
        "    OR name ILIKE '%data science%'\n",
        "    OR name ILIKE '%исследователь данных%'\n",
        "    OR (name ILIKE '%ML%' AND name NOT ILIKE '%HTML%')\n",
        "    OR name ILIKE '%machine learning%'\n",
        "    OR name ILIKE '%машинн%обучен%'\n",
        "    )\n",
        "    AND\n",
        "    (name ILIKE '%junior%'\n",
        "    OR experience = 'Нет опыта'\n",
        "    OR employment = 'Стажировка'\n",
        "    )    \n",
        "'''"
      ]
    },
    {
      "cell_type": "code",
      "execution_count": 183,
      "id": "ZNM-LLYuu1dj",
      "metadata": {
        "id": "ZNM-LLYuu1dj"
      },
      "outputs": [
        {
          "name": "stdout",
          "output_type": "stream",
          "text": [
            "Подходящие вакансии для начинающего дата-сайентиста: 51\n"
          ]
        }
      ],
      "source": [
        "df6_2 = pd.read_sql_query(query_6_2, connection)\n",
        "print('Подходящие вакансии для начинающего дата-сайентиста:', df6_2['count'][0])"
      ]
    },
    {
      "cell_type": "markdown",
      "id": "eedceb80-c5ca-480e-b27a-278dfb8b4438",
      "metadata": {
        "id": "eedceb80-c5ca-480e-b27a-278dfb8b4438"
      },
      "source": [
        "3. Сколько есть вакансий для DS, в которых в качестве ключевого навыка указан SQL или postgres?\n",
        "\n",
        "** Критерии для отнесения вакансии к DS указаны в предыдущем задании.*"
      ]
    },
    {
      "cell_type": "code",
      "execution_count": 184,
      "id": "69621713-0cc5-4f1b-a1d7-bb144fa6148c",
      "metadata": {
        "id": "69621713-0cc5-4f1b-a1d7-bb144fa6148c"
      },
      "outputs": [],
      "source": [
        "query_6_3 = f'''\n",
        "SELECT COUNT(*)\n",
        "FROM vacancies\n",
        "WHERE \n",
        "    (name ILIKE '%data scientist%' \n",
        "    OR name ILIKE '%data science%'\n",
        "    OR name ILIKE '%исследователь данных%'\n",
        "    OR (name LIKE '%ML%' AND name NOT ILIKE '%HTML%')\n",
        "    OR name ILIKE '%machine learning%'\n",
        "    OR name ILIKE '%машинн%обучен%'\n",
        "    )\n",
        "    AND\n",
        "    (key_skills LIKE '%SQL%'\n",
        "    OR key_skills ILIKE '%postgres%'\n",
        "    )\n",
        "'''"
      ]
    },
    {
      "cell_type": "code",
      "execution_count": 185,
      "id": "alA8WEAAvGdf",
      "metadata": {
        "id": "alA8WEAAvGdf"
      },
      "outputs": [
        {
          "name": "stdout",
          "output_type": "stream",
          "text": [
            "Вакансии для DS, в которых в качестве ключевого навыка указан SQL или postgres: 201\n"
          ]
        }
      ],
      "source": [
        "df6_3 = pd.read_sql_query(query_6_3, connection)\n",
        "print('Вакансии для DS, в которых в качестве ключевого навыка указан SQL или postgres:', df6_3['count'][0])"
      ]
    },
    {
      "cell_type": "markdown",
      "id": "1be1e9c6-37cf-4a5f-bfeb-04cab799dc80",
      "metadata": {
        "id": "1be1e9c6-37cf-4a5f-bfeb-04cab799dc80"
      },
      "source": [
        "4. Проверьте, насколько популярен Python в требованиях работодателей к DS.Для этого вычислите количество вакансий, в которых в качестве ключевого навыка указан Python.\n",
        "\n",
        "** Это можно сделать помощью запроса, аналогичного предыдущему.*"
      ]
    },
    {
      "cell_type": "code",
      "execution_count": 186,
      "id": "0036a355-9ccf-4564-8b01-73d8194297e7",
      "metadata": {
        "id": "0036a355-9ccf-4564-8b01-73d8194297e7"
      },
      "outputs": [],
      "source": [
        "query_6_4 = f'''\n",
        "SELECT COUNT(*)\n",
        "FROM vacancies\n",
        "WHERE \n",
        "    (name ILIKE '%data scientist%' \n",
        "    OR name ILIKE '%data science%'\n",
        "    OR name ILIKE '%исследователь данных%'\n",
        "    OR (name LIKE '%ML%' AND name NOT ILIKE '%HTML%')\n",
        "    OR name ILIKE '%machine learning%'\n",
        "    OR name ILIKE '%машинн%обучен%'\n",
        "    )\n",
        "    AND\n",
        "    key_skills ILIKE '%Python%'\n",
        "'''"
      ]
    },
    {
      "cell_type": "code",
      "execution_count": 187,
      "id": "1i-5WyucvQ6v",
      "metadata": {
        "id": "1i-5WyucvQ6v"
      },
      "outputs": [
        {
          "name": "stdout",
          "output_type": "stream",
          "text": [
            "Количество вакансий, в которых в качестве ключевого навыка указан Python: 351\n"
          ]
        }
      ],
      "source": [
        "df6_4 = pd.read_sql_query(query_6_4, connection)\n",
        "print('Количество вакансий, в которых в качестве ключевого навыка указан Python:', df6_4['count'][0])"
      ]
    },
    {
      "cell_type": "markdown",
      "id": "ec3c8db7-fa21-4a41-a994-1af63742a642",
      "metadata": {
        "id": "ec3c8db7-fa21-4a41-a994-1af63742a642"
      },
      "source": [
        "5. Сколько ключевых навыков в среднем указывают в вакансиях для DS?\n",
        "Ответ округлите до двух знаков после точки-разделителя."
      ]
    },
    {
      "cell_type": "code",
      "execution_count": 188,
      "id": "949132bc-d5b6-4611-8218-0b9a504d74f4",
      "metadata": {
        "id": "949132bc-d5b6-4611-8218-0b9a504d74f4"
      },
      "outputs": [],
      "source": [
        "query_6_5 = f'''\n",
        "SELECT \n",
        "    ROUND(AVG(LENGTH(key_skills) \n",
        "    - LENGTH(REPLACE(key_skills,CHR(9),'')) + 1), 2) \n",
        "FROM vacancies\n",
        "WHERE \n",
        "    (name ILIKE '%data scientist%' \n",
        "    OR name ILIKE '%data science%'\n",
        "    OR name ILIKE '%исследователь данных%'\n",
        "    OR (name LIKE '%ML%' AND name NOT ILIKE '%HTML%')\n",
        "    OR name ILIKE '%machine learning%'\n",
        "    OR name ILIKE '%машинн%обучен%'\n",
        "    )\n",
        "    AND key_skills IS NOT NULL\n",
        "'''"
      ]
    },
    {
      "cell_type": "code",
      "execution_count": 189,
      "id": "a3V24Tvmviqk",
      "metadata": {
        "id": "a3V24Tvmviqk"
      },
      "outputs": [
        {
          "name": "stdout",
          "output_type": "stream",
          "text": [
            "Ключевых навыков в среднем указывают в вакансиях для DS: 6.41\n"
          ]
        }
      ],
      "source": [
        "df6_5 = pd.read_sql_query(query_6_5, connection)\n",
        "print('Ключевых навыков в среднем указывают в вакансиях для DS:', df6_5['round'][0])"
      ]
    },
    {
      "cell_type": "markdown",
      "id": "1041c17a-ca8f-4543-a0ca-32778914fb00",
      "metadata": {
        "id": "1041c17a-ca8f-4543-a0ca-32778914fb00"
      },
      "source": [
        "6. Напишите запрос, позволяющий вычислить, какую зарплату для DS в **среднем** указывают для каждого типа требуемого опыта (уникальное значение из поля *experience*). \n",
        "\n",
        "При решении задачи примите во внимание следующее:\n",
        "1. Рассматриваем только вакансии, у которых заполнено хотя бы одно из двух полей с зарплатой.\n",
        "2. Если заполнены оба поля с зарплатой, то считаем зарплату по каждой вакансии как сумму двух полей, делённую на 2. Если заполнено только одно из полей, то его и считаем зарплатой по вакансии.\n",
        "3. Если в расчётах участвует null, в результате он тоже даст null (посмотрите, что возвращает запрос select 1 + null). Чтобы избежать этой ситуацию, мы воспользуемся функцией [coalesce](https://postgrespro.ru/docs/postgresql/9.5/functions-conditional#functions-coalesce-nvl-ifnull), которая заменит null на значение, которое мы передадим. Например, посмотрите, что возвращает запрос `select 1 + coalesce(null, 0)`\n",
        "\n",
        "Выясните, на какую зарплату в среднем может рассчитывать дата-сайентист с опытом работы от 3 до 6 лет. Результат округлите до целого числа. "
      ]
    },
    {
      "cell_type": "code",
      "execution_count": 190,
      "id": "6a743d39-5204-48d3-8271-b9f88e68d40e",
      "metadata": {
        "id": "6a743d39-5204-48d3-8271-b9f88e68d40e"
      },
      "outputs": [],
      "source": [
        "query_6_6 = f'''\n",
        "SELECT  experience Опыт,\n",
        "        ROUND(AVG(COALESCE((salary_from + salary_to)/2, salary_from, salary_to))) \"Средняя зарплата\"\n",
        "FROM vacancies\n",
        "WHERE \n",
        "    (name ILIKE '%data scientist%' \n",
        "    OR name ILIKE '%data science%'\n",
        "    OR name ILIKE '%исследователь данных%'\n",
        "    OR (name LIKE '%ML%' AND name NOT ILIKE '%HTML%')\n",
        "    OR name ILIKE '%machine learning%'\n",
        "    OR name ILIKE '%машинн%обучен%'\n",
        "    )\n",
        "GROUP BY 1\n",
        "'''"
      ]
    },
    {
      "cell_type": "code",
      "execution_count": 191,
      "id": "aRIJ0mZEwU1_",
      "metadata": {
        "id": "aRIJ0mZEwU1_"
      },
      "outputs": [
        {
          "name": "stdout",
          "output_type": "stream",
          "text": [
            "                 Опыт  Средняя зарплата\n",
            "0         Более 6 лет               NaN\n",
            "1           Нет опыта           74643.0\n",
            "2  От 1 года до 3 лет          139675.0\n",
            "3       От 3 до 6 лет          243115.0\n"
          ]
        }
      ],
      "source": [
        "df6_6 = pd.read_sql_query(query_6_6, connection)\n",
        "print(df6_6)"
      ]
    },
    {
      "cell_type": "markdown",
      "id": "6a7892b4-4113-4746-adce-18aa2844f18e",
      "metadata": {
        "id": "6a7892b4-4113-4746-adce-18aa2844f18e"
      },
      "source": [
        "***"
      ]
    },
    {
      "cell_type": "markdown",
      "id": "d9910b2c",
      "metadata": {},
      "source": [
        "# Выводы по предметному анализу.\n",
        "1. Мы выяснили, что 1771 вакансия на сайте hh.ru имеют отношение к работе с данными.\n",
        "2. Также удалось определить, что 51 вакансия подходит для начинающих дата-сайентистов.\n",
        "3. Для тех дата-сайентистов, кто ищет вакансии с ключевыми навыками: SQL или postgres, на hh.ru представлена 201 вакансия.\n",
        "4. Работодатели, требующие в качестве ключевого навыка знание Python для дата-сайентистов, выставили 351 вакансию.\n",
        "5. В вакансиях для дата-сайентистов, в среднем работодатели указывают 6,41 ключевых навыков.\n",
        "6. Зарплаты для дата-сайентистов довольно высоки: в среднем работодатели готовы платить начинающим дата-сайентистам (без опыта работы) - 74643 руб., более опытным (от 1 года до 3 лет) почти в 2 раза больше - 139675 руб., еще более опытным (от 3 до 6 лет) - 243115 руб. Ну а матерым дата-сайентистам (опыт работы от 6 лет) - видимо зарплата по договоренности, так как ее не указывают работодатели у себя в вакансиях.\n"
      ]
    },
    {
      "cell_type": "markdown",
      "id": "00b751fe",
      "metadata": {},
      "source": [
        "# 7. Дополнительные исследования\n"
      ]
    },
    {
      "cell_type": "markdown",
      "id": "0f2afed7",
      "metadata": {},
      "source": [
        "1. Запрос, позволяющий выяснить среднюю зарплату дата-сайентистов, где она указана в вакансиях, и количество таких вакансий по регионам."
      ]
    },
    {
      "cell_type": "code",
      "execution_count": 209,
      "id": "3c59b95a",
      "metadata": {},
      "outputs": [],
      "source": [
        "query_7_1 = f'''\n",
        "SELECT a.name,\n",
        "    COUNT(*),\n",
        "    ROUND(AVG(COALESCE((salary_from + salary_to)/2, salary_from, salary_to))) \"Средняя зарплата\"\n",
        "FROM vacancies v\n",
        "    JOIN areas a ON v.area_id = a.id\n",
        "WHERE \n",
        "    (v.name ILIKE '%data scientist%' \n",
        "    OR v.name ILIKE '%data science%'\n",
        "    OR v.name ILIKE '%исследователь данных%'\n",
        "    OR (v.name LIKE '%ML%' AND v.name NOT ILIKE '%HTML%')\n",
        "    OR v.name ILIKE '%machine learning%'\n",
        "    OR v.name ILIKE '%машинн%обучен%'\n",
        "    )\n",
        "    AND \n",
        "    (salary_from IS NOT NULL\n",
        "    OR salary_to IS NOT NULL)\n",
        "GROUP BY 1\n",
        "\n",
        "UNION ALL\n",
        "\n",
        "SELECT 'Total',\n",
        "    COUNT(*),\n",
        "    ROUND(AVG(COALESCE((salary_from + salary_to)/2, salary_from, salary_to))) \"Средняя зарплата\"\n",
        "FROM vacancies v\n",
        "    JOIN areas a ON v.area_id = a.id\n",
        "WHERE \n",
        "    (v.name ILIKE '%data scientist%' \n",
        "    OR v.name ILIKE '%data science%'\n",
        "    OR v.name ILIKE '%исследователь данных%'\n",
        "    OR (v.name LIKE '%ML%' AND v.name NOT ILIKE '%HTML%')\n",
        "    OR v.name ILIKE '%machine learning%'\n",
        "    OR v.name ILIKE '%машинн%обучен%'\n",
        "    )\n",
        "    AND \n",
        "    (salary_from IS NOT NULL\n",
        "    OR salary_to IS NOT NULL)\n",
        "\n",
        "ORDER BY 2 DESC\n",
        "'''"
      ]
    },
    {
      "cell_type": "code",
      "execution_count": 210,
      "id": "9a707eed",
      "metadata": {},
      "outputs": [
        {
          "data": {
            "text/html": [
              "<div>\n",
              "<style scoped>\n",
              "    .dataframe tbody tr th:only-of-type {\n",
              "        vertical-align: middle;\n",
              "    }\n",
              "\n",
              "    .dataframe tbody tr th {\n",
              "        vertical-align: top;\n",
              "    }\n",
              "\n",
              "    .dataframe thead th {\n",
              "        text-align: right;\n",
              "    }\n",
              "</style>\n",
              "<table border=\"1\" class=\"dataframe\">\n",
              "  <thead>\n",
              "    <tr style=\"text-align: right;\">\n",
              "      <th></th>\n",
              "      <th>name</th>\n",
              "      <th>count</th>\n",
              "      <th>Средняя зарплата</th>\n",
              "    </tr>\n",
              "  </thead>\n",
              "  <tbody>\n",
              "    <tr>\n",
              "      <th>0</th>\n",
              "      <td>Total</td>\n",
              "      <td>62</td>\n",
              "      <td>177379.0</td>\n",
              "    </tr>\n",
              "    <tr>\n",
              "      <th>1</th>\n",
              "      <td>Москва</td>\n",
              "      <td>27</td>\n",
              "      <td>207630.0</td>\n",
              "    </tr>\n",
              "    <tr>\n",
              "      <th>2</th>\n",
              "      <td>Санкт-Петербург</td>\n",
              "      <td>7</td>\n",
              "      <td>173335.0</td>\n",
              "    </tr>\n",
              "    <tr>\n",
              "      <th>3</th>\n",
              "      <td>Новосибирск</td>\n",
              "      <td>3</td>\n",
              "      <td>166333.0</td>\n",
              "    </tr>\n",
              "    <tr>\n",
              "      <th>4</th>\n",
              "      <td>Рязань</td>\n",
              "      <td>3</td>\n",
              "      <td>136667.0</td>\n",
              "    </tr>\n",
              "    <tr>\n",
              "      <th>5</th>\n",
              "      <td>Армения</td>\n",
              "      <td>3</td>\n",
              "      <td>268863.0</td>\n",
              "    </tr>\n",
              "    <tr>\n",
              "      <th>6</th>\n",
              "      <td>Екатеринбург</td>\n",
              "      <td>3</td>\n",
              "      <td>124000.0</td>\n",
              "    </tr>\n",
              "    <tr>\n",
              "      <th>7</th>\n",
              "      <td>Алматы</td>\n",
              "      <td>2</td>\n",
              "      <td>94587.0</td>\n",
              "    </tr>\n",
              "    <tr>\n",
              "      <th>8</th>\n",
              "      <td>Владивосток</td>\n",
              "      <td>2</td>\n",
              "      <td>85000.0</td>\n",
              "    </tr>\n",
              "    <tr>\n",
              "      <th>9</th>\n",
              "      <td>Пермь</td>\n",
              "      <td>2</td>\n",
              "      <td>75000.0</td>\n",
              "    </tr>\n",
              "    <tr>\n",
              "      <th>10</th>\n",
              "      <td>Кипр</td>\n",
              "      <td>1</td>\n",
              "      <td>300000.0</td>\n",
              "    </tr>\n",
              "    <tr>\n",
              "      <th>11</th>\n",
              "      <td>Казань</td>\n",
              "      <td>1</td>\n",
              "      <td>50000.0</td>\n",
              "    </tr>\n",
              "    <tr>\n",
              "      <th>12</th>\n",
              "      <td>Черногория</td>\n",
              "      <td>1</td>\n",
              "      <td>233794.0</td>\n",
              "    </tr>\n",
              "    <tr>\n",
              "      <th>13</th>\n",
              "      <td>Ростов-на-Дону</td>\n",
              "      <td>1</td>\n",
              "      <td>50000.0</td>\n",
              "    </tr>\n",
              "    <tr>\n",
              "      <th>14</th>\n",
              "      <td>Белгород</td>\n",
              "      <td>1</td>\n",
              "      <td>200000.0</td>\n",
              "    </tr>\n",
              "    <tr>\n",
              "      <th>15</th>\n",
              "      <td>Барнаул</td>\n",
              "      <td>1</td>\n",
              "      <td>60000.0</td>\n",
              "    </tr>\n",
              "    <tr>\n",
              "      <th>16</th>\n",
              "      <td>Сербия</td>\n",
              "      <td>1</td>\n",
              "      <td>233794.0</td>\n",
              "    </tr>\n",
              "    <tr>\n",
              "      <th>17</th>\n",
              "      <td>Турция</td>\n",
              "      <td>1</td>\n",
              "      <td>233794.0</td>\n",
              "    </tr>\n",
              "    <tr>\n",
              "      <th>18</th>\n",
              "      <td>Уфа</td>\n",
              "      <td>1</td>\n",
              "      <td>90000.0</td>\n",
              "    </tr>\n",
              "    <tr>\n",
              "      <th>19</th>\n",
              "      <td>Королев</td>\n",
              "      <td>1</td>\n",
              "      <td>130000.0</td>\n",
              "    </tr>\n",
              "  </tbody>\n",
              "</table>\n",
              "</div>"
            ],
            "text/plain": [
              "               name  count  Средняя зарплата\n",
              "0             Total     62          177379.0\n",
              "1            Москва     27          207630.0\n",
              "2   Санкт-Петербург      7          173335.0\n",
              "3       Новосибирск      3          166333.0\n",
              "4            Рязань      3          136667.0\n",
              "5           Армения      3          268863.0\n",
              "6      Екатеринбург      3          124000.0\n",
              "7            Алматы      2           94587.0\n",
              "8       Владивосток      2           85000.0\n",
              "9             Пермь      2           75000.0\n",
              "10             Кипр      1          300000.0\n",
              "11           Казань      1           50000.0\n",
              "12       Черногория      1          233794.0\n",
              "13   Ростов-на-Дону      1           50000.0\n",
              "14         Белгород      1          200000.0\n",
              "15          Барнаул      1           60000.0\n",
              "16           Сербия      1          233794.0\n",
              "17           Турция      1          233794.0\n",
              "18              Уфа      1           90000.0\n",
              "19          Королев      1          130000.0"
            ]
          },
          "metadata": {},
          "output_type": "display_data"
        }
      ],
      "source": [
        "df7_1 = pd.read_sql_query(query_7_1, connection)\n",
        "display(df7_1)"
      ]
    },
    {
      "cell_type": "markdown",
      "id": "619f2a80",
      "metadata": {},
      "source": [
        "2. Запрос, позволяющий выяснить количество вакансий по регионам, где требуются дата-сайентисты, но без указания зарплаты."
      ]
    },
    {
      "cell_type": "code",
      "execution_count": 221,
      "id": "e2b53a6d",
      "metadata": {},
      "outputs": [],
      "source": [
        "query_7_2 = f'''\n",
        "SELECT a.name,\n",
        "    COUNT(*)\n",
        "FROM vacancies v\n",
        "    JOIN areas a ON v.area_id = a.id\n",
        "WHERE \n",
        "    (v.name ILIKE '%data scientist%' \n",
        "    OR v.name ILIKE '%data science%'\n",
        "    OR v.name ILIKE '%исследователь данных%'\n",
        "    OR (v.name LIKE '%ML%' AND v.name NOT ILIKE '%HTML%')\n",
        "    OR v.name ILIKE '%machine learning%'\n",
        "    OR v.name ILIKE '%машинн%обучен%'\n",
        "    )\n",
        "    AND \n",
        "    (salary_from IS NULL\n",
        "    AND salary_to IS NULL)\n",
        "GROUP BY 1\n",
        "\n",
        "UNION ALL \n",
        "\n",
        "SELECT 'Total',\n",
        "    COUNT(*)\n",
        "FROM vacancies v\n",
        "    JOIN areas a ON v.area_id = a.id\n",
        "WHERE \n",
        "    (v.name ILIKE '%data scientist%' \n",
        "    OR v.name ILIKE '%data science%'\n",
        "    OR v.name ILIKE '%исследователь данных%'\n",
        "    OR (v.name LIKE '%ML%' AND v.name NOT ILIKE '%HTML%')\n",
        "    OR v.name ILIKE '%machine learning%'\n",
        "    OR v.name ILIKE '%машинн%обучен%'\n",
        "    )\n",
        "    AND \n",
        "    (salary_from IS NULL\n",
        "    AND salary_to IS NULL)\n",
        "\n",
        "ORDER BY 2 DESC\n",
        "LIMIT 21\n",
        "'''"
      ]
    },
    {
      "cell_type": "code",
      "execution_count": 222,
      "id": "0fa1d8a8",
      "metadata": {},
      "outputs": [
        {
          "data": {
            "text/html": [
              "<div>\n",
              "<style scoped>\n",
              "    .dataframe tbody tr th:only-of-type {\n",
              "        vertical-align: middle;\n",
              "    }\n",
              "\n",
              "    .dataframe tbody tr th {\n",
              "        vertical-align: top;\n",
              "    }\n",
              "\n",
              "    .dataframe thead th {\n",
              "        text-align: right;\n",
              "    }\n",
              "</style>\n",
              "<table border=\"1\" class=\"dataframe\">\n",
              "  <thead>\n",
              "    <tr style=\"text-align: right;\">\n",
              "      <th></th>\n",
              "      <th>name</th>\n",
              "      <th>count</th>\n",
              "    </tr>\n",
              "  </thead>\n",
              "  <tbody>\n",
              "    <tr>\n",
              "      <th>0</th>\n",
              "      <td>Total</td>\n",
              "      <td>418</td>\n",
              "    </tr>\n",
              "    <tr>\n",
              "      <th>1</th>\n",
              "      <td>Москва</td>\n",
              "      <td>190</td>\n",
              "    </tr>\n",
              "    <tr>\n",
              "      <th>2</th>\n",
              "      <td>Санкт-Петербург</td>\n",
              "      <td>57</td>\n",
              "    </tr>\n",
              "    <tr>\n",
              "      <th>3</th>\n",
              "      <td>Новосибирск</td>\n",
              "      <td>20</td>\n",
              "    </tr>\n",
              "    <tr>\n",
              "      <th>4</th>\n",
              "      <td>Нижний Новгород</td>\n",
              "      <td>20</td>\n",
              "    </tr>\n",
              "    <tr>\n",
              "      <th>5</th>\n",
              "      <td>Казань</td>\n",
              "      <td>15</td>\n",
              "    </tr>\n",
              "    <tr>\n",
              "      <th>6</th>\n",
              "      <td>Алматы</td>\n",
              "      <td>14</td>\n",
              "    </tr>\n",
              "    <tr>\n",
              "      <th>7</th>\n",
              "      <td>Минск</td>\n",
              "      <td>9</td>\n",
              "    </tr>\n",
              "    <tr>\n",
              "      <th>8</th>\n",
              "      <td>Томск</td>\n",
              "      <td>8</td>\n",
              "    </tr>\n",
              "    <tr>\n",
              "      <th>9</th>\n",
              "      <td>Нур-Султан</td>\n",
              "      <td>6</td>\n",
              "    </tr>\n",
              "    <tr>\n",
              "      <th>10</th>\n",
              "      <td>Краснодар</td>\n",
              "      <td>6</td>\n",
              "    </tr>\n",
              "    <tr>\n",
              "      <th>11</th>\n",
              "      <td>Ростов-на-Дону</td>\n",
              "      <td>5</td>\n",
              "    </tr>\n",
              "    <tr>\n",
              "      <th>12</th>\n",
              "      <td>Самара</td>\n",
              "      <td>5</td>\n",
              "    </tr>\n",
              "    <tr>\n",
              "      <th>13</th>\n",
              "      <td>Екатеринбург</td>\n",
              "      <td>4</td>\n",
              "    </tr>\n",
              "    <tr>\n",
              "      <th>14</th>\n",
              "      <td>Кипр</td>\n",
              "      <td>4</td>\n",
              "    </tr>\n",
              "    <tr>\n",
              "      <th>15</th>\n",
              "      <td>Ташкент</td>\n",
              "      <td>4</td>\n",
              "    </tr>\n",
              "    <tr>\n",
              "      <th>16</th>\n",
              "      <td>Иннополис</td>\n",
              "      <td>3</td>\n",
              "    </tr>\n",
              "    <tr>\n",
              "      <th>17</th>\n",
              "      <td>Пермь</td>\n",
              "      <td>3</td>\n",
              "    </tr>\n",
              "    <tr>\n",
              "      <th>18</th>\n",
              "      <td>Тбилиси</td>\n",
              "      <td>3</td>\n",
              "    </tr>\n",
              "    <tr>\n",
              "      <th>19</th>\n",
              "      <td>Армения</td>\n",
              "      <td>3</td>\n",
              "    </tr>\n",
              "    <tr>\n",
              "      <th>20</th>\n",
              "      <td>Омск</td>\n",
              "      <td>3</td>\n",
              "    </tr>\n",
              "  </tbody>\n",
              "</table>\n",
              "</div>"
            ],
            "text/plain": [
              "               name  count\n",
              "0             Total    418\n",
              "1            Москва    190\n",
              "2   Санкт-Петербург     57\n",
              "3       Новосибирск     20\n",
              "4   Нижний Новгород     20\n",
              "5            Казань     15\n",
              "6            Алматы     14\n",
              "7             Минск      9\n",
              "8             Томск      8\n",
              "9        Нур-Султан      6\n",
              "10        Краснодар      6\n",
              "11   Ростов-на-Дону      5\n",
              "12           Самара      5\n",
              "13     Екатеринбург      4\n",
              "14             Кипр      4\n",
              "15          Ташкент      4\n",
              "16        Иннополис      3\n",
              "17            Пермь      3\n",
              "18          Тбилиси      3\n",
              "19          Армения      3\n",
              "20             Омск      3"
            ]
          },
          "metadata": {},
          "output_type": "display_data"
        }
      ],
      "source": [
        "df7_2 = pd.read_sql_query(query_7_2, connection)\n",
        "display(df7_2)"
      ]
    },
    {
      "cell_type": "markdown",
      "id": "58f60707",
      "metadata": {},
      "source": [
        "3. Запрос, позволяющий выяснить количество вакансий, где требуются дата-сайентисты, сгруппированные по сфере деятельности работодателей."
      ]
    },
    {
      "cell_type": "code",
      "execution_count": 232,
      "id": "07b730ee",
      "metadata": {},
      "outputs": [],
      "source": [
        "query_7_3 = f'''\n",
        "SELECT i.name,\n",
        "    COUNT(*)\n",
        "FROM vacancies v\n",
        "    JOIN employers_industries ei ON ei.employer_id=v.employer_id                       \n",
        "    JOIN industries i ON ei.industry_id = i.id\n",
        "WHERE \n",
        "    (v.name ILIKE '%data scientist%' \n",
        "    OR v.name ILIKE '%data science%'\n",
        "    OR v.name ILIKE '%исследователь данных%'\n",
        "    OR (v.name LIKE '%ML%' AND v.name NOT ILIKE '%HTML%')\n",
        "    OR v.name ILIKE '%machine learning%'\n",
        "    OR v.name ILIKE '%машинн%обучен%'\n",
        "    )\n",
        "GROUP BY 1\n",
        "\n",
        "UNION ALL \n",
        "\n",
        "SELECT 'Total',\n",
        "    COUNT(*)\n",
        "FROM vacancies v\n",
        "    JOIN areas a ON v.area_id = a.id\n",
        "WHERE \n",
        "    (v.name ILIKE '%data scientist%' \n",
        "    OR v.name ILIKE '%data science%'\n",
        "    OR v.name ILIKE '%исследователь данных%'\n",
        "    OR (v.name LIKE '%ML%' AND v.name NOT ILIKE '%HTML%')\n",
        "    OR v.name ILIKE '%machine learning%'\n",
        "    OR v.name ILIKE '%машинн%обучен%'\n",
        "    )\n",
        "\n",
        "ORDER BY 2 DESC\n",
        "LIMIT 22\n",
        "'''"
      ]
    },
    {
      "cell_type": "code",
      "execution_count": 233,
      "id": "ac4bb15f",
      "metadata": {},
      "outputs": [
        {
          "data": {
            "text/html": [
              "<div>\n",
              "<style scoped>\n",
              "    .dataframe tbody tr th:only-of-type {\n",
              "        vertical-align: middle;\n",
              "    }\n",
              "\n",
              "    .dataframe tbody tr th {\n",
              "        vertical-align: top;\n",
              "    }\n",
              "\n",
              "    .dataframe thead th {\n",
              "        text-align: right;\n",
              "    }\n",
              "</style>\n",
              "<table border=\"1\" class=\"dataframe\">\n",
              "  <thead>\n",
              "    <tr style=\"text-align: right;\">\n",
              "      <th></th>\n",
              "      <th>name</th>\n",
              "      <th>count</th>\n",
              "    </tr>\n",
              "  </thead>\n",
              "  <tbody>\n",
              "    <tr>\n",
              "      <th>0</th>\n",
              "      <td>Total</td>\n",
              "      <td>480</td>\n",
              "    </tr>\n",
              "    <tr>\n",
              "      <th>1</th>\n",
              "      <td>Разработка программного обеспечения</td>\n",
              "      <td>148</td>\n",
              "    </tr>\n",
              "    <tr>\n",
              "      <th>2</th>\n",
              "      <td>Системная интеграция,  автоматизации технологических и бизнес-процессов предприятия, ИТ-консалтинг</td>\n",
              "      <td>139</td>\n",
              "    </tr>\n",
              "    <tr>\n",
              "      <th>3</th>\n",
              "      <td>Банк</td>\n",
              "      <td>92</td>\n",
              "    </tr>\n",
              "    <tr>\n",
              "      <th>4</th>\n",
              "      <td>Интернет-компания (поисковики, платежные системы, соц.сети, информационно-познавательные и развлекательные ресурсы, продвижение сайтов и прочее)</td>\n",
              "      <td>79</td>\n",
              "    </tr>\n",
              "    <tr>\n",
              "      <th>5</th>\n",
              "      <td>Мобильная связь</td>\n",
              "      <td>23</td>\n",
              "    </tr>\n",
              "    <tr>\n",
              "      <th>6</th>\n",
              "      <td>Маркетинговые, рекламные, BTL, дизайнерские, Event-, PR-агентства, организация выставок</td>\n",
              "      <td>22</td>\n",
              "    </tr>\n",
              "    <tr>\n",
              "      <th>7</th>\n",
              "      <td>Управляющая, инвестиционная компания (управление активами)</td>\n",
              "      <td>21</td>\n",
              "    </tr>\n",
              "    <tr>\n",
              "      <th>8</th>\n",
              "      <td>Консалтинговые услуги</td>\n",
              "      <td>16</td>\n",
              "    </tr>\n",
              "    <tr>\n",
              "      <th>9</th>\n",
              "      <td>Фиксированная связь</td>\n",
              "      <td>13</td>\n",
              "    </tr>\n",
              "    <tr>\n",
              "      <th>10</th>\n",
              "      <td>Научно-исследовательская, научная, академическая деятельность</td>\n",
              "      <td>9</td>\n",
              "    </tr>\n",
              "    <tr>\n",
              "      <th>11</th>\n",
              "      <td>Производство мультимедиа, контента, редакторская деятельность</td>\n",
              "      <td>8</td>\n",
              "    </tr>\n",
              "    <tr>\n",
              "      <th>12</th>\n",
              "      <td>Интернет-провайдер</td>\n",
              "      <td>7</td>\n",
              "    </tr>\n",
              "    <tr>\n",
              "      <th>13</th>\n",
              "      <td>Интернет-магазин</td>\n",
              "      <td>7</td>\n",
              "    </tr>\n",
              "    <tr>\n",
              "      <th>14</th>\n",
              "      <td>Кадровые агентства</td>\n",
              "      <td>6</td>\n",
              "    </tr>\n",
              "    <tr>\n",
              "      <th>15</th>\n",
              "      <td>Коллекторская деятельность</td>\n",
              "      <td>6</td>\n",
              "    </tr>\n",
              "    <tr>\n",
              "      <th>16</th>\n",
              "      <td>Курьерская, почтовая доставка</td>\n",
              "      <td>6</td>\n",
              "    </tr>\n",
              "    <tr>\n",
              "      <th>17</th>\n",
              "      <td>Розничная сеть (одежда, обувь, аксессуары)</td>\n",
              "      <td>6</td>\n",
              "    </tr>\n",
              "    <tr>\n",
              "      <th>18</th>\n",
              "      <td>ГСМ, топливо (розничная торговля)</td>\n",
              "      <td>6</td>\n",
              "    </tr>\n",
              "    <tr>\n",
              "      <th>19</th>\n",
              "      <td>Розничная сеть (продуктовая)</td>\n",
              "      <td>6</td>\n",
              "    </tr>\n",
              "    <tr>\n",
              "      <th>20</th>\n",
              "      <td>Складские услуги</td>\n",
              "      <td>6</td>\n",
              "    </tr>\n",
              "  </tbody>\n",
              "</table>\n",
              "</div>"
            ],
            "text/plain": [
              "                                                                                                                                                name  \\\n",
              "0                                                                                                                                              Total   \n",
              "1                                                                                                                Разработка программного обеспечения   \n",
              "2                                                 Системная интеграция,  автоматизации технологических и бизнес-процессов предприятия, ИТ-консалтинг   \n",
              "3                                                                                                                                               Банк   \n",
              "4   Интернет-компания (поисковики, платежные системы, соц.сети, информационно-познавательные и развлекательные ресурсы, продвижение сайтов и прочее)   \n",
              "5                                                                                                                                    Мобильная связь   \n",
              "6                                                            Маркетинговые, рекламные, BTL, дизайнерские, Event-, PR-агентства, организация выставок   \n",
              "7                                                                                         Управляющая, инвестиционная компания (управление активами)   \n",
              "8                                                                                                                              Консалтинговые услуги   \n",
              "9                                                                                                                                Фиксированная связь   \n",
              "10                                                                                     Научно-исследовательская, научная, академическая деятельность   \n",
              "11                                                                                     Производство мультимедиа, контента, редакторская деятельность   \n",
              "12                                                                                                                                Интернет-провайдер   \n",
              "13                                                                                                                                  Интернет-магазин   \n",
              "14                                                                                                                                Кадровые агентства   \n",
              "15                                                                                                                        Коллекторская деятельность   \n",
              "16                                                                                                                     Курьерская, почтовая доставка   \n",
              "17                                                                                                        Розничная сеть (одежда, обувь, аксессуары)   \n",
              "18                                                                                                                 ГСМ, топливо (розничная торговля)   \n",
              "19                                                                                                                      Розничная сеть (продуктовая)   \n",
              "20                                                                                                                                  Складские услуги   \n",
              "\n",
              "    count  \n",
              "0     480  \n",
              "1     148  \n",
              "2     139  \n",
              "3      92  \n",
              "4      79  \n",
              "5      23  \n",
              "6      22  \n",
              "7      21  \n",
              "8      16  \n",
              "9      13  \n",
              "10      9  \n",
              "11      8  \n",
              "12      7  \n",
              "13      7  \n",
              "14      6  \n",
              "15      6  \n",
              "16      6  \n",
              "17      6  \n",
              "18      6  \n",
              "19      6  \n",
              "20      6  "
            ]
          },
          "metadata": {},
          "output_type": "display_data"
        }
      ],
      "source": [
        "df7_3 = pd.read_sql_query(query_7_3, connection)\n",
        "pd.set_option('display.max_colwidth', None)\n",
        "display(df7_3)"
      ]
    },
    {
      "cell_type": "markdown",
      "id": "c0ED6fh7wiBT",
      "metadata": {
        "id": "c0ED6fh7wiBT"
      },
      "source": [
        "# Общий вывод по проекту"
      ]
    },
    {
      "cell_type": "markdown",
      "id": "98f542ca",
      "metadata": {},
      "source": [
        "Каких вакансий много?\n",
        "Что можно сказать о рынке труда в различных городах?\n",
        "Какие ещё интересные исследования можно провести?\n",
        "Вы можете добавить любые свои рассуждения и умозаключения, к которым пришли в процессе работы. "
      ]
    },
    {
      "cell_type": "code",
      "execution_count": 198,
      "id": "e2379124",
      "metadata": {},
      "outputs": [],
      "source": [
        "#connection.close()"
      ]
    }
  ],
  "metadata": {
    "colab": {
      "collapsed_sections": [
        "8d62a9f3-f64e-4fe7-bdac-c4dffa16155e"
      ],
      "provenance": []
    },
    "kernelspec": {
      "display_name": "Python 3.8.10 64-bit",
      "language": "python",
      "name": "python3"
    },
    "language_info": {
      "codemirror_mode": {
        "name": "ipython",
        "version": 3
      },
      "file_extension": ".py",
      "mimetype": "text/x-python",
      "name": "python",
      "nbconvert_exporter": "python",
      "pygments_lexer": "ipython3",
      "version": "3.8.10"
    },
    "vscode": {
      "interpreter": {
        "hash": "0954963ce0501e435fc8a3b327b72d34933226b8387620a2703012fe49353a2a"
      }
    }
  },
  "nbformat": 4,
  "nbformat_minor": 5
}
